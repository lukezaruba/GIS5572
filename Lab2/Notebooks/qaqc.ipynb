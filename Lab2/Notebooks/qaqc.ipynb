{
 "cells": [
  {
   "cell_type": "markdown",
   "metadata": {},
   "source": [
    "# Lab 2 - Automated Data Quality Assurance Pipeline\n",
    "### Luke Zaruba\n",
    "### GIS 5572: ArcGIS II\n",
    "### 2023-03-09\n",
    "\n",
    "\n",
    "In this lab, the goal is to build a pipeline that will extract data, perform QAQC operations on the data, and the save the data locally in a File Geodatabase, before saving it to a PostgreSQL database hosted on Google Cloud.\n",
    "\n",
    "The raster pipeline was more easily applicable to both input datasets, hence why a simple function was used to check for potential issues before making any fixes. With the vector data, because they were so different, it was easiest to pull them into DataFrames and then separately start working away at cleaning them and checking them. Although it was easier to implement, it is also a less organized and messier approach, as can be seen by the cells in the Vector Pipline section.\n",
    "\n",
    "After cleaning and repairing the data, the datasets were exported to Feature Classes or rasters within a local File Geodatabase. For the rasters, this either meant exporting it directly into the FGDB or having the final tool used to clean a dataset place the output into the FGDB. For vectors, because the cleaning was done in Pandas, the ArcGIS API for Python was used to convert the DataFrames to Spatially-Enabled DataFrames, which then allowed for easy conversion to Feature Classes from there.\n",
    "\n",
    "Finally, the last step was to send data from the local FGDB to the GCP-hosted PostgreSQL database. This is a simple process, which can be done by creating an SDE connection and exporting the datasets from the local FGDB to the SDE.\n",
    "\n",
    "Data Sources can be found below.\n",
    "\n",
    "[Minnesota 30m DEM](https://gisdata.mn.gov/dataset/elev-30m-digital-elevation-model) <br>\n",
    "[Minnesota NLCD 2019](https://gisdata.mn.gov/dataset/biota-landcover-nlcd-mn-2019) <br>\n",
    "[BMSB Observations](https://www.eddmaps.org/distribution/viewmap.cfm?sub=9328) <br>\n",
    "[MN RWIS Daily Weather Observations](https://mesonet.agron.iastate.edu/api/1/docs#/)"
   ]
  },
  {
   "cell_type": "markdown",
   "metadata": {},
   "source": [
    "## Packages and Paths"
   ]
  },
  {
   "cell_type": "code",
   "execution_count": 1,
   "metadata": {},
   "outputs": [],
   "source": [
    "# Packages for Processing Data\n",
    "import pandas as pd\n",
    "import arcpy\n",
    "import arcgis\n",
    "\n",
    "# Other Packages\n",
    "import requests\n",
    "import os\n",
    "import warnings\n",
    "\n",
    "warnings.filterwarnings(\"ignore\")"
   ]
  },
  {
   "cell_type": "code",
   "execution_count": 2,
   "metadata": {},
   "outputs": [],
   "source": [
    "# January Daily Weather Obs for MN Stations (GeoJSON)\n",
    "weather_url = r\"https://mesonet.agron.iastate.edu/api/1/daily.geojson?network=MN_RWIS&month=1&year=2023\"\n",
    "\n",
    "# EDD Maps BMSB Data - Requested and Received via Email. (CSV path)\n",
    "bmsb_path = r\"C:\\gitFiles\\GIS5572\\Lab2\\Data\\eddmaps_bmsb_obs.csv\"\n",
    "\n",
    "# MN NLCD 2019 Land Cover (TIF from MN Geospatial Commons)\n",
    "landcover_path = r\"C:\\gitFiles\\GIS5572\\Lab2\\Data\\landcover\\NLCD_2019_Land_Cover.tif\"\n",
    "\n",
    "# MN 30m DEM (Raster in GDB from MN Geospatial Commons)\n",
    "elevation_path = r\"C:\\gitFiles\\GIS5572\\Lab2\\Data\\elevation\\elev_30m_digital_elevation_model.gdb\\digital_elevation_model_30m\"\n",
    "\n",
    "# Output FGDB Path\n",
    "out_local = r\"C:\\Users\\lukea\\Documents\\ArcGIS\\Projects\\lab2_gis5572\\lab2_final.gdb\" "
   ]
  },
  {
   "cell_type": "markdown",
   "metadata": {},
   "source": [
    "## Raster Pipeline"
   ]
  },
  {
   "cell_type": "markdown",
   "metadata": {},
   "source": [
    "### Raster QA"
   ]
  },
  {
   "cell_type": "code",
   "execution_count": 3,
   "metadata": {},
   "outputs": [],
   "source": [
    "def check_raster(file_path, categorical=True, expected_cell_size=None, expected_srid=None, xmin=None, ymin=None, xmax=None, ymax=None):\n",
    "    \"\"\"\n",
    "    A function to check the quality of a raster dataset prior to using any methods to fix issues.\n",
    "    \"\"\"\n",
    "    # Check for Null Values\n",
    "    null_values = arcpy.management.GetRasterProperties(file_path, \"ANYNODATA\").getOutput(0)\n",
    "\n",
    "    if null_values == \"1\":\n",
    "        print(\"Null values exist.\")\n",
    "    else:\n",
    "        print(\"Null values do not exist.\")\n",
    "\n",
    "    # Check if Cell Size is Correct\n",
    "    x_size = float(arcpy.management.GetRasterProperties(file_path, \"CELLSIZEX\").getOutput(0))\n",
    "    y_size = float(arcpy.management.GetRasterProperties(file_path, \"CELLSIZEY\").getOutput(0))\n",
    "\n",
    "    if x_size == expected_cell_size and y_size == expected_cell_size:\n",
    "        print(\"Actual spatial resolution matches expected spatial resolution.\")\n",
    "    else:\n",
    "        print(\"Actual spatial resolution does not match expected spatial resolution.\")\n",
    "\n",
    "    # If Dataset is not Categorical, Check if there are Outliers\n",
    "    if categorical == False:\n",
    "        mean_val = float(arcpy.management.GetRasterProperties(file_path, \"MEAN\").getOutput(0))\n",
    "        std_val = float(arcpy.management.GetRasterProperties(file_path, \"STD\").getOutput(0))\n",
    "\n",
    "        max_val = float(arcpy.management.GetRasterProperties(file_path, \"MAXIMUM\").getOutput(0))\n",
    "        min_val = float(arcpy.management.GetRasterProperties(file_path, \"MINIMUM\").getOutput(0))\n",
    "\n",
    "        # Check if Min < Mean - 3 Std Devs or if Max > Mean + 3 Std Devs\n",
    "        if min_val < (mean_val - (3 * std_val)) or max_val > (mean_val + (3 * std_val)):\n",
    "            print(\"Outliers exist within the dataset. Values exist outside of +- 3 standard deviations of the mean.\")\n",
    "        else:\n",
    "            print(\"Outliers do not exist within the dataset. No values +- 3 standard deviations of the mean.\")\n",
    "    else:\n",
    "        print(\"Raster is categorical. Not checking for outliers.\")\n",
    "\n",
    "    # Check CRS of Raster\n",
    "    sr = arcpy.Describe(file_path).spatialReference\n",
    "\n",
    "    if expected_srid == None:\n",
    "        print(f\"Coordinate system of the raster is: {sr}\")\n",
    "    else:\n",
    "        arcpy_expected_sr = arcpy.SpatialReference(expected_srid)\n",
    "\n",
    "        if arcpy_expected_sr.factoryCode == sr.factoryCode:\n",
    "            print(\"Actual coordinate system matches expected coordinate system.\")\n",
    "        else:\n",
    "            print(\"Actual coordinate system does not match expected coordinate system.\")\n",
    "            print(f\"Coordinate system of the raster is: {sr.factoryCode}\")\n",
    "\n",
    "    # Check if Raster is within Bounding Box (an ArcPy Polygon, with the same CS)\n",
    "    if None not in [xmin, ymin, xmax, ymax]:\n",
    "        left = float(arcpy.management.GetRasterProperties(file_path, \"LEFT\").getOutput(0))\n",
    "        bottom = float(arcpy.management.GetRasterProperties(file_path, \"BOTTOM\").getOutput(0))\n",
    "        right = float(arcpy.management.GetRasterProperties(file_path, \"RIGHT\").getOutput(0))\n",
    "        top = float(arcpy.management.GetRasterProperties(file_path, \"TOP\").getOutput(0))\n",
    "\n",
    "        if left < xmin or bottom < ymin or right > xmax or top > ymax:\n",
    "            if left < xmin - 1 or bottom < ymin - 1 or right > xmax + 1 or top > ymax + 1:\n",
    "                print(\"Raster is within 1 degree of the bounding box coordinates. Use caution and consider inspecting manually.\")\n",
    "            else:\n",
    "                print(\"Raster is not completely contained within the bounding box coordinates.\")\n",
    "        else:\n",
    "            print(\"Raster is completely contained within the bounding box coordinates.\")\n",
    "    else:\n",
    "        print(\"Not checking bounding box.\")\n"
   ]
  },
  {
   "cell_type": "markdown",
   "metadata": {},
   "source": [
    "### Checking Rasters"
   ]
  },
  {
   "cell_type": "code",
   "execution_count": 4,
   "metadata": {},
   "outputs": [
    {
     "name": "stdout",
     "output_type": "stream",
     "text": [
      "Null values exist.\n",
      "Actual spatial resolution matches expected spatial resolution.\n",
      "Raster is categorical. Not checking for outliers.\n",
      "Actual coordinate system matches expected coordinate system.\n",
      "Raster is within 1 degree of the bounding box coordinates. Use caution and consider inspecting manually.\n"
     ]
    }
   ],
   "source": [
    "# Running On Landcover\n",
    "check_raster(landcover_path, True, 30, 26915, -97.5, 43.0, -89.00, 49.5)"
   ]
  },
  {
   "cell_type": "code",
   "execution_count": 5,
   "metadata": {},
   "outputs": [
    {
     "name": "stdout",
     "output_type": "stream",
     "text": [
      "Null values exist.\n",
      "Actual spatial resolution matches expected spatial resolution.\n",
      "Outliers exist within the dataset. Values exist outside of +- 3 standard deviations of the mean.\n",
      "Actual coordinate system matches expected coordinate system.\n",
      "Raster is within 1 degree of the bounding box coordinates. Use caution and consider inspecting manually.\n"
     ]
    }
   ],
   "source": [
    "# Running On Elevation\n",
    "check_raster(elevation_path, False, 30, 26915, -97.5, 43.0, -89.00, 49.5)"
   ]
  },
  {
   "cell_type": "markdown",
   "metadata": {},
   "source": [
    "### Summary of Issues & Fixes"
   ]
  },
  {
   "cell_type": "markdown",
   "metadata": {},
   "source": [
    "Landcover\n",
    "1. Null values only exist outside of the US boundary. This is ok.\n",
    "2. The raster does span into other states. **The raster should be clipped.**\n",
    "\n",
    "Elevation\n",
    "1. Null values only exist outside of the state boundary. This is ok.\n",
    "2. Outliers do exist by the definition used in the function, but the values are correct. This is ok.\n",
    "3. The raster is very close to the designated expected bounding box and is in the correct position. This is ok."
   ]
  },
  {
   "cell_type": "code",
   "execution_count": 6,
   "metadata": {},
   "outputs": [
    {
     "data": {
      "text/html": [
       "<div class='gpresult'><h2>Messages</h2><div id='messages' data-messages='[\"Start Time: Tuesday, March 14, 2023 9:56:23 PM\",\"Building Pyramids...\",\"Succeeded at Tuesday, March 14, 2023 9:57:00 PM (Elapsed Time: 36.94 seconds)\"]' data-show='true'><div id = 'default' /></div></div>"
      ],
      "text/plain": [
       "<Result 'C:\\\\Users\\\\lukea\\\\Documents\\\\ArcGIS\\\\Projects\\\\lab2_gis5572\\\\lab2_final.gdb\\\\lc_final'>"
      ]
     },
     "execution_count": 6,
     "metadata": {},
     "output_type": "execute_result"
    }
   ],
   "source": [
    "# Clipping Raster to MN BBox\n",
    "arcpy.management.Clip(landcover_path, \"132660 4774410 791819 5491608\", os.path.join(out_local, \"lc_final\"));"
   ]
  },
  {
   "cell_type": "code",
   "execution_count": 7,
   "metadata": {},
   "outputs": [
    {
     "data": {
      "text/html": [
       "<div class='gpresult'><h2>Messages</h2><div id='messages' data-messages='[\"Start Time: Tuesday, March 14, 2023 9:57:00 PM\",\"Successfully converted:  C:\\\\gitFiles\\\\GIS5572\\\\Lab2\\\\Data\\\\elevation\\\\elev_30m_digital_elevation_model.gdb\\\\digital_elevation_model_30m To C:\\\\Users\\\\lukea\\\\Documents\\\\ArcGIS\\\\Projects\\\\lab2_gis5572\\\\lab2_final.gdb\\\\digital_elevation_model_30m\",\"Succeeded at Tuesday, March 14, 2023 9:57:26 PM (Elapsed Time: 26.26 seconds)\"]' data-show='true'><div id = 'default' /></div></div>"
      ],
      "text/plain": [
       "<Result ''>"
      ]
     },
     "execution_count": 7,
     "metadata": {},
     "output_type": "execute_result"
    }
   ],
   "source": [
    "# Export Elevation to Local GDB\n",
    "arcpy.conversion.RasterToGeodatabase(elevation_path, out_local)"
   ]
  },
  {
   "cell_type": "markdown",
   "metadata": {},
   "source": [
    "## Vector Pipeline"
   ]
  },
  {
   "cell_type": "markdown",
   "metadata": {},
   "source": [
    "### BMSB"
   ]
  },
  {
   "cell_type": "code",
   "execution_count": 8,
   "metadata": {
    "scrolled": false
   },
   "outputs": [
    {
     "data": {
      "text/html": [
       "<div>\n",
       "<style scoped>\n",
       "    .dataframe tbody tr th:only-of-type {\n",
       "        vertical-align: middle;\n",
       "    }\n",
       "\n",
       "    .dataframe tbody tr th {\n",
       "        vertical-align: top;\n",
       "    }\n",
       "\n",
       "    .dataframe thead th {\n",
       "        text-align: right;\n",
       "    }\n",
       "</style>\n",
       "<table border=\"1\" class=\"dataframe\">\n",
       "  <thead>\n",
       "    <tr style=\"text-align: right;\">\n",
       "      <th></th>\n",
       "      <th>objectid</th>\n",
       "      <th>ObsDate</th>\n",
       "      <th>Latitude</th>\n",
       "      <th>Longitude</th>\n",
       "      <th>NumCollect</th>\n",
       "      <th>County</th>\n",
       "    </tr>\n",
       "  </thead>\n",
       "  <tbody>\n",
       "    <tr>\n",
       "      <th>965</th>\n",
       "      <td>3047914</td>\n",
       "      <td>2012-09-27</td>\n",
       "      <td>45.09834</td>\n",
       "      <td>-93.31717</td>\n",
       "      <td>1</td>\n",
       "      <td>Hennepin</td>\n",
       "    </tr>\n",
       "    <tr>\n",
       "      <th>982</th>\n",
       "      <td>3047931</td>\n",
       "      <td>2012-09-22</td>\n",
       "      <td>46.86453</td>\n",
       "      <td>-96.76807</td>\n",
       "      <td>1</td>\n",
       "      <td>Clay</td>\n",
       "    </tr>\n",
       "    <tr>\n",
       "      <th>1349</th>\n",
       "      <td>3048298</td>\n",
       "      <td>2011-11-16</td>\n",
       "      <td>43.67082</td>\n",
       "      <td>-92.94843</td>\n",
       "      <td>1</td>\n",
       "      <td>Mower</td>\n",
       "    </tr>\n",
       "    <tr>\n",
       "      <th>1513</th>\n",
       "      <td>3048462</td>\n",
       "      <td>2011-08-25</td>\n",
       "      <td>45.40731</td>\n",
       "      <td>-93.24103</td>\n",
       "      <td>1</td>\n",
       "      <td>Anoka</td>\n",
       "    </tr>\n",
       "    <tr>\n",
       "      <th>11094</th>\n",
       "      <td>3060908</td>\n",
       "      <td>2011-11-18</td>\n",
       "      <td>44.95374</td>\n",
       "      <td>-93.09741</td>\n",
       "      <td>1</td>\n",
       "      <td>Ramsey</td>\n",
       "    </tr>\n",
       "    <tr>\n",
       "      <th>...</th>\n",
       "      <td>...</td>\n",
       "      <td>...</td>\n",
       "      <td>...</td>\n",
       "      <td>...</td>\n",
       "      <td>...</td>\n",
       "      <td>...</td>\n",
       "    </tr>\n",
       "    <tr>\n",
       "      <th>95424</th>\n",
       "      <td>11292427</td>\n",
       "      <td>2023-01-13</td>\n",
       "      <td>44.88777</td>\n",
       "      <td>-92.97591</td>\n",
       "      <td>1</td>\n",
       "      <td>Washington</td>\n",
       "    </tr>\n",
       "    <tr>\n",
       "      <th>95425</th>\n",
       "      <td>11292428</td>\n",
       "      <td>2023-01-13</td>\n",
       "      <td>44.32806</td>\n",
       "      <td>-93.96222</td>\n",
       "      <td>1</td>\n",
       "      <td>Nicollet</td>\n",
       "    </tr>\n",
       "    <tr>\n",
       "      <th>95426</th>\n",
       "      <td>11292430</td>\n",
       "      <td>2023-01-13</td>\n",
       "      <td>44.32806</td>\n",
       "      <td>-93.96222</td>\n",
       "      <td>1</td>\n",
       "      <td>Nicollet</td>\n",
       "    </tr>\n",
       "    <tr>\n",
       "      <th>95427</th>\n",
       "      <td>11292431</td>\n",
       "      <td>2023-01-13</td>\n",
       "      <td>44.97945</td>\n",
       "      <td>-93.45546</td>\n",
       "      <td>1</td>\n",
       "      <td>Hennepin</td>\n",
       "    </tr>\n",
       "    <tr>\n",
       "      <th>95428</th>\n",
       "      <td>11292432</td>\n",
       "      <td>2023-01-13</td>\n",
       "      <td>45.19463</td>\n",
       "      <td>-93.24676</td>\n",
       "      <td>1</td>\n",
       "      <td>Anoka</td>\n",
       "    </tr>\n",
       "  </tbody>\n",
       "</table>\n",
       "<p>1026 rows × 6 columns</p>\n",
       "</div>"
      ],
      "text/plain": [
       "       objectid    ObsDate  Latitude  Longitude  NumCollect      County\n",
       "965     3047914 2012-09-27  45.09834  -93.31717           1    Hennepin\n",
       "982     3047931 2012-09-22  46.86453  -96.76807           1        Clay\n",
       "1349    3048298 2011-11-16  43.67082  -92.94843           1       Mower\n",
       "1513    3048462 2011-08-25  45.40731  -93.24103           1       Anoka\n",
       "11094   3060908 2011-11-18  44.95374  -93.09741           1      Ramsey\n",
       "...         ...        ...       ...        ...         ...         ...\n",
       "95424  11292427 2023-01-13  44.88777  -92.97591           1  Washington\n",
       "95425  11292428 2023-01-13  44.32806  -93.96222           1    Nicollet\n",
       "95426  11292430 2023-01-13  44.32806  -93.96222           1    Nicollet\n",
       "95427  11292431 2023-01-13  44.97945  -93.45546           1    Hennepin\n",
       "95428  11292432 2023-01-13  45.19463  -93.24676           1       Anoka\n",
       "\n",
       "[1026 rows x 6 columns]"
      ]
     },
     "execution_count": 8,
     "metadata": {},
     "output_type": "execute_result"
    }
   ],
   "source": [
    "# Loading in BMSB Observations\n",
    "bmsb_df_raw = pd.read_csv(bmsb_path)\n",
    "\n",
    "# Create Copy DF with only Certain Columns\n",
    "bmsb_df = bmsb_df_raw[[\"objectid\", \"ObsDate\", \"Location\", \"Latitude\", \"Longitude\", \"NumCollect\"]].copy()\n",
    "\n",
    "# Filter where Location Contains 'Minnesota'\n",
    "bmsb_df = bmsb_df[bmsb_df[\"Location\"].str.contains(\"Minnesota\")]\n",
    "\n",
    "# Fill 'NumCollect' Nulls with 1\n",
    "bmsb_df[\"NumCollect\"].fillna(1, inplace=True)\n",
    "\n",
    "# Drop Rows with Null 'Latitude' or 'Longitude'\n",
    "bmsb_df = bmsb_df.dropna(subset=[\"Latitude\", \"Longitude\"])\n",
    "\n",
    "# Convert Data Types\n",
    "bmsb_df[\"Location\"] = bmsb_df[\"Location\"].astype(str)\n",
    "bmsb_df[\"ObsDate\"] = bmsb_df[\"ObsDate\"].astype('datetime64[ns]')\n",
    "bmsb_df[\"NumCollect\"] = bmsb_df[\"NumCollect\"].astype(int)\n",
    "\n",
    "# Reconfigure the Location Column to just show County Name\n",
    "bmsb_df[\"Location\"] = bmsb_df[\"Location\"].apply(lambda x: x.replace('\"', ''))\n",
    "bmsb_df[\"County\"] = bmsb_df[\"Location\"].apply(lambda x: x.split(\",\")[0])\n",
    "bmsb_df = bmsb_df.drop([\"Location\"], axis=1)\n",
    "\n",
    "# Drop Rows where 'NumCollect' < 1\n",
    "bmsb_df = bmsb_df.loc[~bmsb_df[\"NumCollect\"] < 1]\n",
    "\n",
    "# Drop Rows where 'NumCollect' are Outliers (> 1 Std Dev above the Mean)\n",
    "numMean = bmsb_df[\"NumCollect\"].mean()\n",
    "numStd = bmsb_df[\"NumCollect\"].std()\n",
    "\n",
    "bmsb_df = bmsb_df.loc[~bmsb_df[\"NumCollect\"] < numMean + numStd]\n",
    "\n",
    "# Drop Rows where Lat/Lon are Outside MN BBox\n",
    "bmsb_df = bmsb_df.loc[bmsb_df[\"Longitude\"] > -97.5]\n",
    "bmsb_df = bmsb_df.loc[bmsb_df[\"Longitude\"] < -89.0]\n",
    "bmsb_df = bmsb_df.loc[bmsb_df[\"Latitude\"] > 43.0]\n",
    "bmsb_df = bmsb_df.loc[bmsb_df[\"Latitude\"] < 49.5]\n",
    "\n",
    "# Result\n",
    "bmsb_df"
   ]
  },
  {
   "cell_type": "code",
   "execution_count": 9,
   "metadata": {},
   "outputs": [
    {
     "data": {
      "text/plain": [
       "'C:\\\\Users\\\\lukea\\\\Documents\\\\ArcGIS\\\\Projects\\\\lab2_gis5572\\\\lab2_final.gdb\\\\bmsb_observations'"
      ]
     },
     "execution_count": 9,
     "metadata": {},
     "output_type": "execute_result"
    }
   ],
   "source": [
    "# Convert BMSB Observations from DF to SEDF\n",
    "bmsb_sedf = arcgis.GeoAccessor.from_xy(bmsb_df, \"Longitude\", \"Latitude\")\n",
    "\n",
    "# Convert BMSB Observations from SEDF to FC\n",
    "bmsb_sedf.spatial.to_featureclass(location=os.path.join(out_local, \"bmsb_observations\"))"
   ]
  },
  {
   "cell_type": "markdown",
   "metadata": {},
   "source": [
    "### Weather"
   ]
  },
  {
   "cell_type": "code",
   "execution_count": 10,
   "metadata": {
    "scrolled": false
   },
   "outputs": [
    {
     "data": {
      "text/html": [
       "<div>\n",
       "<style scoped>\n",
       "    .dataframe tbody tr th:only-of-type {\n",
       "        vertical-align: middle;\n",
       "    }\n",
       "\n",
       "    .dataframe tbody tr th {\n",
       "        vertical-align: top;\n",
       "    }\n",
       "\n",
       "    .dataframe thead th {\n",
       "        text-align: right;\n",
       "    }\n",
       "</style>\n",
       "<table border=\"1\" class=\"dataframe\">\n",
       "  <thead>\n",
       "    <tr style=\"text-align: right;\">\n",
       "      <th></th>\n",
       "      <th>station</th>\n",
       "      <th>date</th>\n",
       "      <th>max_tmpf</th>\n",
       "      <th>min_tmpf</th>\n",
       "      <th>precip</th>\n",
       "      <th>name</th>\n",
       "      <th>x</th>\n",
       "      <th>y</th>\n",
       "    </tr>\n",
       "  </thead>\n",
       "  <tbody>\n",
       "    <tr>\n",
       "      <th>0</th>\n",
       "      <td>MN001</td>\n",
       "      <td>2023-01-01</td>\n",
       "      <td>37.040024</td>\n",
       "      <td>20.660011</td>\n",
       "      <td>0.0</td>\n",
       "      <td>Twin Lakes I-35 Mile Post 1</td>\n",
       "      <td>-93.354057</td>\n",
       "      <td>43.508331</td>\n",
       "    </tr>\n",
       "    <tr>\n",
       "      <th>1</th>\n",
       "      <td>MN002</td>\n",
       "      <td>2023-01-01</td>\n",
       "      <td>26.780000</td>\n",
       "      <td>17.599989</td>\n",
       "      <td>0.0</td>\n",
       "      <td>Silver Lake TH 7 Mile Post 1</td>\n",
       "      <td>-94.119100</td>\n",
       "      <td>44.906800</td>\n",
       "    </tr>\n",
       "    <tr>\n",
       "      <th>2</th>\n",
       "      <td>MN003</td>\n",
       "      <td>2023-01-01</td>\n",
       "      <td>33.440020</td>\n",
       "      <td>18.140022</td>\n",
       "      <td>0.0</td>\n",
       "      <td>Little Chicago I-35 Mile Post 70</td>\n",
       "      <td>-93.292427</td>\n",
       "      <td>44.478500</td>\n",
       "    </tr>\n",
       "    <tr>\n",
       "      <th>3</th>\n",
       "      <td>MN004</td>\n",
       "      <td>2023-01-01</td>\n",
       "      <td>33.080000</td>\n",
       "      <td>21.380000</td>\n",
       "      <td>0.0</td>\n",
       "      <td>Rush City I-35 Mile Post 157</td>\n",
       "      <td>-92.992752</td>\n",
       "      <td>45.642921</td>\n",
       "    </tr>\n",
       "    <tr>\n",
       "      <th>4</th>\n",
       "      <td>MN005</td>\n",
       "      <td>2023-01-01</td>\n",
       "      <td>31.819979</td>\n",
       "      <td>23.899988</td>\n",
       "      <td>0.0</td>\n",
       "      <td>Rutledge I-35 Mile Post 198</td>\n",
       "      <td>-92.838562</td>\n",
       "      <td>46.212570</td>\n",
       "    </tr>\n",
       "    <tr>\n",
       "      <th>...</th>\n",
       "      <td>...</td>\n",
       "      <td>...</td>\n",
       "      <td>...</td>\n",
       "      <td>...</td>\n",
       "      <td>...</td>\n",
       "      <td>...</td>\n",
       "      <td>...</td>\n",
       "      <td>...</td>\n",
       "    </tr>\n",
       "    <tr>\n",
       "      <th>4514</th>\n",
       "      <td>MN158</td>\n",
       "      <td>2023-01-31</td>\n",
       "      <td>13.640022</td>\n",
       "      <td>-6.879994</td>\n",
       "      <td>0.0</td>\n",
       "      <td>U.S.75 - Canby - MP 84.0         MN US MNDOT</td>\n",
       "      <td>-96.276932</td>\n",
       "      <td>44.674171</td>\n",
       "    </tr>\n",
       "    <tr>\n",
       "      <th>4515</th>\n",
       "      <td>MN159</td>\n",
       "      <td>2023-01-31</td>\n",
       "      <td>4.640022</td>\n",
       "      <td>-14.079994</td>\n",
       "      <td>0.0</td>\n",
       "      <td>U.S.12 - Atwater - MP 85.4       MN US MNDOT</td>\n",
       "      <td>-94.811760</td>\n",
       "      <td>45.139050</td>\n",
       "    </tr>\n",
       "    <tr>\n",
       "      <th>4516</th>\n",
       "      <td>MN160</td>\n",
       "      <td>2023-01-31</td>\n",
       "      <td>7.340022</td>\n",
       "      <td>-11.200011</td>\n",
       "      <td>0.0</td>\n",
       "      <td>U.S.14 - Florence - MP 21.2      MN US MNDOT</td>\n",
       "      <td>-96.046341</td>\n",
       "      <td>44.240311</td>\n",
       "    </tr>\n",
       "    <tr>\n",
       "      <th>4517</th>\n",
       "      <td>MN161</td>\n",
       "      <td>2023-01-31</td>\n",
       "      <td>7.699989</td>\n",
       "      <td>-11.020000</td>\n",
       "      <td>0.0</td>\n",
       "      <td>U.S.12 - Delano - MP 140.4       MN US MNDOT</td>\n",
       "      <td>-93.766068</td>\n",
       "      <td>45.035450</td>\n",
       "    </tr>\n",
       "    <tr>\n",
       "      <th>4518</th>\n",
       "      <td>MN162</td>\n",
       "      <td>2023-01-31</td>\n",
       "      <td>13.099989</td>\n",
       "      <td>-9.760006</td>\n",
       "      <td>0.0</td>\n",
       "      <td>U.S.61 - Winona                  MN US MNDOT</td>\n",
       "      <td>-91.429039</td>\n",
       "      <td>43.978771</td>\n",
       "    </tr>\n",
       "  </tbody>\n",
       "</table>\n",
       "<p>4436 rows × 8 columns</p>\n",
       "</div>"
      ],
      "text/plain": [
       "     station       date  ...          x          y\n",
       "0      MN001 2023-01-01  ... -93.354057  43.508331\n",
       "1      MN002 2023-01-01  ... -94.119100  44.906800\n",
       "2      MN003 2023-01-01  ... -93.292427  44.478500\n",
       "3      MN004 2023-01-01  ... -92.992752  45.642921\n",
       "4      MN005 2023-01-01  ... -92.838562  46.212570\n",
       "...      ...        ...  ...        ...        ...\n",
       "4514   MN158 2023-01-31  ... -96.276932  44.674171\n",
       "4515   MN159 2023-01-31  ... -94.811760  45.139050\n",
       "4516   MN160 2023-01-31  ... -96.046341  44.240311\n",
       "4517   MN161 2023-01-31  ... -93.766068  45.035450\n",
       "4518   MN162 2023-01-31  ... -91.429039  43.978771\n",
       "\n",
       "[4436 rows x 8 columns]"
      ]
     },
     "execution_count": 10,
     "metadata": {},
     "output_type": "execute_result"
    }
   ],
   "source": [
    "# Running On Weather Observations\n",
    "weather_response = requests.get(weather_url)\n",
    "\n",
    "weather_json = weather_response.json()[\"features\"]\n",
    "\n",
    "weather_df_raw = pd.DataFrame.from_records(weather_json)\n",
    "\n",
    "# Function to Extract Fields from Dicts that are Columns in DF\n",
    "def extractToCol(field):\n",
    "    weather_df_raw[field] = weather_df_raw[\"properties\"].apply(lambda x: dict(x)[field])\n",
    "\n",
    "# Extract Fields (Properties)\n",
    "weather_props = [\"station\", \"date\", \"max_tmpf\", \"min_tmpf\", \"precip\", \"name\"]\n",
    "\n",
    "for i in weather_props:\n",
    "    extractToCol(i)\n",
    "\n",
    "# Extract Geometry\n",
    "weather_df_raw[\"x\"] = weather_df_raw[\"geometry\"].apply(lambda x: dict(x)[\"coordinates\"][0])\n",
    "weather_df_raw[\"y\"] = weather_df_raw[\"geometry\"].apply(lambda x: dict(x)[\"coordinates\"][1])\n",
    "\n",
    "# Copy Useful Columns to new DF\n",
    "weather_df = weather_df_raw[[\"station\", \"date\", \"max_tmpf\", \"min_tmpf\", \"precip\", \"name\", \"x\", \"y\"]].copy()\n",
    "\n",
    "# Fill 'Precip' Nulls with 0\n",
    "weather_df[\"precip\"].fillna(0, inplace=True)\n",
    "\n",
    "# Drop Rows with Null 'Latitude' or 'Longitude'\n",
    "weather_df = weather_df.dropna(subset=[\"x\", \"y\"])\n",
    "\n",
    "# Convert Data Types\n",
    "weather_df[\"station\"] = weather_df[\"station\"].astype(str)\n",
    "weather_df[\"name\"] = weather_df[\"name\"].astype(str)\n",
    "weather_df[\"date\"] = weather_df[\"date\"].astype('datetime64[ns]')\n",
    "\n",
    "# Drop Rows where 'precip' < 0\n",
    "weather_df = weather_df.loc[weather_df[\"precip\"] >= 0]\n",
    "\n",
    "# Drop Outliers for Max Temp\n",
    "mxtmp_mn = weather_df[\"max_tmpf\"].mean()\n",
    "mxtmp_std = weather_df[\"max_tmpf\"].std()\n",
    "\n",
    "weather_df = weather_df.loc[weather_df[\"max_tmpf\"] < mxtmp_mn + (mxtmp_std * 3)]\n",
    "weather_df = weather_df.loc[weather_df[\"max_tmpf\"] > mxtmp_mn - (mxtmp_std * 3)]\n",
    "\n",
    "# Drop Outlier for Min Temp\n",
    "mntmp_mn = weather_df[\"min_tmpf\"].mean()\n",
    "mntmp_std = weather_df[\"min_tmpf\"].std()\n",
    "\n",
    "weather_df = weather_df.loc[weather_df[\"min_tmpf\"] < mntmp_mn + (mntmp_std * 3)]\n",
    "weather_df = weather_df.loc[weather_df[\"min_tmpf\"] > mntmp_mn - (mntmp_std * 3)]\n",
    "\n",
    "# Drop Outlier for Precip\n",
    "precip_mn = weather_df[\"precip\"].mean()\n",
    "precip_std = weather_df[\"precip\"].std()\n",
    "\n",
    "weather_df = weather_df.loc[weather_df[\"precip\"] < precip_mn + (precip_std * 3)]\n",
    "\n",
    "# Drop Rows where Lat/Lon are Outside MN BBox\n",
    "weather_df = weather_df.loc[weather_df[\"x\"] > -97.5]\n",
    "weather_df = weather_df.loc[weather_df[\"x\"] < -89.0]\n",
    "weather_df = weather_df.loc[weather_df[\"y\"] > 43.0]\n",
    "weather_df = weather_df.loc[weather_df[\"y\"] < 49.5]\n",
    "\n",
    "# Result\n",
    "weather_df"
   ]
  },
  {
   "cell_type": "code",
   "execution_count": 11,
   "metadata": {},
   "outputs": [
    {
     "data": {
      "text/plain": [
       "'C:\\\\Users\\\\lukea\\\\Documents\\\\ArcGIS\\\\Projects\\\\lab2_gis5572\\\\lab2_final.gdb\\\\weather_observations'"
      ]
     },
     "execution_count": 11,
     "metadata": {},
     "output_type": "execute_result"
    }
   ],
   "source": [
    "# Convert Weather Observations from DF to SEDF\n",
    "weather_sedf = arcgis.GeoAccessor.from_xy(weather_df, \"x\", \"y\")\n",
    "\n",
    "# Convert Weather Observations from SEDF to FC\n",
    "weather_sedf.spatial.to_featureclass(location=os.path.join(out_local, \"weather_observations\"))"
   ]
  },
  {
   "cell_type": "markdown",
   "metadata": {},
   "source": [
    "## Export from Local FGDB to PostgreSQL"
   ]
  },
  {
   "cell_type": "code",
   "execution_count": 12,
   "metadata": {},
   "outputs": [
    {
     "data": {
      "text/html": [
       "<div class='gpresult'><h2>Messages</h2><div id='messages' data-messages='[\"Start Time: Tuesday, March 14, 2023 10:00:40 PM\",\"Failed to convert C:\\\\Users\\\\lukea\\\\Documents\\\\ArcGIS\\\\Projects\\\\lab2_gis5572\\\\lab2_final.gdb\\\\lc_final. ERROR 999999: Something unexpected caused the tool to fail. Contact Esri Technical Support (http://esriurl.com/support) to Report a Bug, and refer to the error help for potential solutions or workarounds.\\nNot running inside a server process.\\nFailed to execute (CopyRaster).\\n\",\"Failed to convert C:\\\\Users\\\\lukea\\\\Documents\\\\ArcGIS\\\\Projects\\\\lab2_gis5572\\\\lab2_final.gdb\\\\digital_elevation_model_30m. ERROR 999999: Something unexpected caused the tool to fail. Contact Esri Technical Support (http://esriurl.com/support) to Report a Bug, and refer to the error help for potential solutions or workarounds.\\nNot running inside a server process.\\nFailed to execute (CopyRaster).\\n\",\"Succeeded at Tuesday, March 14, 2023 10:00:50 PM (Elapsed Time: 9.53 seconds)\"]' data-show='true'><div id = 'default' /></div></div>"
      ],
      "text/plain": [
       "<Result ''>"
      ]
     },
     "execution_count": 12,
     "metadata": {},
     "output_type": "execute_result"
    }
   ],
   "source": [
    "# Set up SDE Connection using PGAdmin & Catalog Pane in ArcGIS Pro\n",
    "sde = r\"C:\\Users\\lukea\\Documents\\ArcGIS\\Projects\\lab2_gis5572\\lab2.sde\"\n",
    "\n",
    "# Export Vectors to Postgres\n",
    "arcpy.conversion.FeatureClassToGeodatabase(\n",
    "    f'{os.path.join(out_local, \"weather_observations\")};{os.path.join(out_local, \"bmsb_observations\")}',\n",
    "    sde\n",
    ")\n",
    "\n",
    "# Export Rasters to Postgres\n",
    "arcpy.conversion.RasterToGeodatabase(\n",
    "    f'{os.path.join(out_local, \"lc_final\")};{os.path.join(out_local, \"digital_elevation_model_30m\")}',\n",
    "    sde\n",
    ")"
   ]
  }
 ],
 "metadata": {
  "kernelspec": {
   "display_name": "ArcGISPro",
   "language": "Python",
   "name": "python3"
  },
  "language_info": {
   "file_extension": ".py",
   "name": "python",
   "version": "3"
  },
  "vscode": {
   "interpreter": {
    "hash": "50292bb4526333ce37e4d09044b61ef99ec35aeff4391900d62941fcd82bd551"
   }
  }
 },
 "nbformat": 4,
 "nbformat_minor": 2
}
