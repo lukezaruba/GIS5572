{
 "cells": [
  {
   "cell_type": "markdown",
   "metadata": {},
   "source": [
    "# Lab 1.2 - Basic Data Pipeline with ArcPy and psycopg2\n",
    "### Luke Zaruba\n",
    "### GIS 5572: ArcGIS II\n",
    "### 2023-02-16\n",
    "\n",
    "In the following notebook, a basic data pipeline that, (1) creates a polygon using ArcPy primitives, (2) converts the polygon to WKT, and (3) inserts the aforementioned polygon into a PosgreSQL database using psycopg2.\n",
    "\n",
    "The pipeline then continues in additional Python files that run a basic Flask app, which allows users to access the data."
   ]
  },
  {
   "cell_type": "code",
   "execution_count": 2,
   "metadata": {},
   "outputs": [],
   "source": [
    "import arcpy\n",
    "import psycopg2"
   ]
  },
  {
   "cell_type": "markdown",
   "metadata": {},
   "source": [
    "### 1. Creating a Polygon using ArcPy Primitives"
   ]
  },
  {
   "cell_type": "code",
   "execution_count": 3,
   "metadata": {},
   "outputs": [],
   "source": [
    "# Create List of Points - using Lat/Long (WGS84)\n",
    "myInputPoints= [arcpy.Point(-94, 44.5), arcpy.Point(-94, 45.5), arcpy.Point(-92.5, 45.5), arcpy.Point(-92.5, 44.5), arcpy.Point(-94, 44.5)]\n",
    "\n",
    "# Convert to Polygon\n",
    "myPolygon = arcpy.Polygon(arcpy.Array(myInputPoints))\n",
    "\n",
    "# Get ArcPy SR and Assign to Polygon\n",
    "wgs84 = arcpy.SpatialReference(4326)\n",
    "\n",
    "myPolygon.SR = wgs84"
   ]
  },
  {
   "cell_type": "markdown",
   "metadata": {},
   "source": [
    "### 2. Convert to WKT"
   ]
  },
  {
   "cell_type": "code",
   "execution_count": 4,
   "metadata": {},
   "outputs": [],
   "source": [
    "wkt = myPolygon.WKT"
   ]
  },
  {
   "cell_type": "markdown",
   "metadata": {},
   "source": [
    "### 3. Insert Polygon into Postgres"
   ]
  },
  {
   "cell_type": "code",
   "execution_count": 5,
   "metadata": {},
   "outputs": [],
   "source": [
    "def executeCreateTable(table):\n",
    "    # Set Query\n",
    "    query = f\"CREATE TABLE IF NOT EXISTS {table} (objectid SERIAL PRIMARY KEY, geom GEOMETRY)\"\n",
    "\n",
    "    # Try to Execute\n",
    "    try:\n",
    "        # Execute Query\n",
    "        cursor.execute(query)\n",
    "\n",
    "        # Commit to DB\n",
    "        connection.commit()\n",
    "\n",
    "        # Print if Success\n",
    "        print(\"Successful excecution\")\n",
    "\n",
    "    except Exception as e:\n",
    "        # Roll Back Transaction if Invalid Query \n",
    "        connection.rollback()\n",
    "\n",
    "        # Display Error\n",
    "        print(\"Error: \" + e)\n",
    "\n",
    "# Function to Execute an Insert Query\n",
    "def executeInsert(table, polygon_wkt, epsg):\n",
    "    # Set Query\n",
    "    query = f\"INSERT INTO {table} (geom) VALUES (ST_GeomFromText('{polygon_wkt}', {epsg}))\"\n",
    "    \n",
    "    # Try to Execute\n",
    "    try:\n",
    "        # Execute Query\n",
    "        cursor.execute(query)\n",
    "        \n",
    "        # Commit to DB\n",
    "        connection.commit()\n",
    "\n",
    "        # Print if Success\n",
    "        print(\"Successful excecution\")\n",
    "\n",
    "    except Exception as e:\n",
    "        # Roll Back Transaction if Invalid Query \n",
    "        connection.rollback()\n",
    "\n",
    "        # Display Error\n",
    "        print(\"Error: \" + e)"
   ]
  },
  {
   "cell_type": "code",
   "execution_count": 6,
   "metadata": {},
   "outputs": [
    {
     "name": "stdout",
     "output_type": "stream",
     "text": [
      "Successful excecution\n",
      "Successful excecution\n"
     ]
    }
   ],
   "source": [
    "# Make a Connection to the DB - CHANGE PARAMS TO EXECUTE\n",
    "connection = psycopg2.connect(\n",
    "    host=\"instance_ip_here\",\n",
    "    database=\"db_name\",\n",
    "    user=\"user\",\n",
    "    password=\"pw\"\n",
    ")\n",
    "\n",
    "# Create Cursor\n",
    "cursor = connection.cursor()\n",
    "\n",
    "# Create Table\n",
    "table_name = \"lab1_polygon\"\n",
    "\n",
    "executeCreateTable(table_name)\n",
    "\n",
    "# Call Execute Function\n",
    "executeInsert(table_name, wkt, 4326)\n",
    "\n",
    "# Close Connection\n",
    "connection.close()"
   ]
  }
 ],
 "metadata": {
  "kernelspec": {
   "display_name": "Python 3",
   "language": "python",
   "name": "python3"
  },
  "language_info": {
   "codemirror_mode": {
    "name": "ipython",
    "version": 3
   },
   "file_extension": ".py",
   "mimetype": "text/x-python",
   "name": "python",
   "nbconvert_exporter": "python",
   "pygments_lexer": "ipython3",
   "version": "3.9.11"
  },
  "vscode": {
   "interpreter": {
    "hash": "50292bb4526333ce37e4d09044b61ef99ec35aeff4391900d62941fcd82bd551"
   }
  }
 },
 "nbformat": 4,
 "nbformat_minor": 2
}
