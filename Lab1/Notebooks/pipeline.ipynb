{
 "cells": [
  {
   "attachments": {},
   "cell_type": "markdown",
   "metadata": {},
   "source": [
    "# Lab 1.2 - Basic Data Pipeline with ArcPy and psycopg2\n",
    "### Luke Zaruba\n",
    "### GIS 5572: ArcGIS II\n",
    "### 2023-02-16\n",
    "\n",
    "In the following notebook, a basic data pipeline that, (1) creates a polygon using ArcPy primitives, (2) converts the polygon to WKT, and (3) inserts the aforementioned polygon into a PosgreSQL database using psycopg2.\n",
    "\n",
    "The pipeline then continues in additional Python files that run a basic Flask app, which allows users to access the data."
   ]
  },
  {
   "cell_type": "code",
   "execution_count": 2,
   "metadata": {},
   "outputs": [
    {
     "ename": "ModuleNotFoundError",
     "evalue": "No module named 'arcpy'",
     "output_type": "error",
     "traceback": [
      "\u001b[0;31m---------------------------------------------------------------------------\u001b[0m",
      "\u001b[0;31mModuleNotFoundError\u001b[0m                       Traceback (most recent call last)",
      "Cell \u001b[0;32mIn[2], line 1\u001b[0m\n\u001b[0;32m----> 1\u001b[0m \u001b[39mimport\u001b[39;00m \u001b[39marcpy\u001b[39;00m\n\u001b[1;32m      2\u001b[0m \u001b[39mimport\u001b[39;00m \u001b[39mpsycopg2\u001b[39;00m\n",
      "\u001b[0;31mModuleNotFoundError\u001b[0m: No module named 'arcpy'"
     ]
    }
   ],
   "source": [
    "import arcpy\n",
    "import psycopg2"
   ]
  },
  {
   "attachments": {},
   "cell_type": "markdown",
   "metadata": {},
   "source": [
    "### 1. Creating a Polygon using ArcPy Primitives"
   ]
  },
  {
   "cell_type": "code",
   "execution_count": 3,
   "metadata": {},
   "outputs": [
    {
     "ename": "NameError",
     "evalue": "name 'arcpy' is not defined",
     "output_type": "error",
     "traceback": [
      "\u001b[0;31m---------------------------------------------------------------------------\u001b[0m",
      "\u001b[0;31mNameError\u001b[0m                                 Traceback (most recent call last)",
      "Cell \u001b[0;32mIn[3], line 2\u001b[0m\n\u001b[1;32m      1\u001b[0m \u001b[39m# Create List of Points - using Lat/Long (WGS84)\u001b[39;00m\n\u001b[0;32m----> 2\u001b[0m myInputPoints\u001b[39m=\u001b[39m [arcpy\u001b[39m.\u001b[39mPoint(\u001b[39m-\u001b[39m\u001b[39m94\u001b[39m, \u001b[39m44.5\u001b[39m), arcpy\u001b[39m.\u001b[39mPoint(\u001b[39m-\u001b[39m\u001b[39m94\u001b[39m, \u001b[39m45.5\u001b[39m), arcpy\u001b[39m.\u001b[39mPoint(\u001b[39m-\u001b[39m\u001b[39m92.5\u001b[39m, \u001b[39m45.5\u001b[39m), arcpy\u001b[39m.\u001b[39mPoint(\u001b[39m-\u001b[39m\u001b[39m92.5\u001b[39m, \u001b[39m44.5\u001b[39m), arcpy\u001b[39m.\u001b[39mPoint(\u001b[39m-\u001b[39m\u001b[39m94\u001b[39m, \u001b[39m44.5\u001b[39m)]\n\u001b[1;32m      4\u001b[0m \u001b[39m# Convert to Polygon\u001b[39;00m\n\u001b[1;32m      5\u001b[0m myPolygon \u001b[39m=\u001b[39m arcpy\u001b[39m.\u001b[39mPolygon(arcpy\u001b[39m.\u001b[39mArray(myInputPoints))\n",
      "\u001b[0;31mNameError\u001b[0m: name 'arcpy' is not defined"
     ]
    }
   ],
   "source": [
    "# Create List of Points - using Lat/Long (WGS84)\n",
    "myInputPoints= [arcpy.Point(-94, 44.5), arcpy.Point(-94, 45.5), arcpy.Point(-92.5, 45.5), arcpy.Point(-92.5, 44.5), arcpy.Point(-94, 44.5)]\n",
    "\n",
    "# Convert to Polygon\n",
    "myPolygon = arcpy.Polygon(arcpy.Array(myInputPoints))\n",
    "\n",
    "# Get ArcPy SR and Assign to Polygon\n",
    "wgs84 = arcpy.SpatialReference(4326)\n",
    "\n",
    "myPolygon.SR = wgs84"
   ]
  },
  {
   "attachments": {},
   "cell_type": "markdown",
   "metadata": {},
   "source": [
    "### 2. Convert to WKT"
   ]
  },
  {
   "cell_type": "code",
   "execution_count": 1,
   "metadata": {},
   "outputs": [
    {
     "ename": "NameError",
     "evalue": "name 'myPolygon' is not defined",
     "output_type": "error",
     "traceback": [
      "\u001b[0;31m---------------------------------------------------------------------------\u001b[0m",
      "\u001b[0;31mNameError\u001b[0m                                 Traceback (most recent call last)",
      "Cell \u001b[0;32mIn[1], line 1\u001b[0m\n\u001b[0;32m----> 1\u001b[0m wkt \u001b[39m=\u001b[39m myPolygon\u001b[39m.\u001b[39mWKT\n",
      "\u001b[0;31mNameError\u001b[0m: name 'myPolygon' is not defined"
     ]
    }
   ],
   "source": [
    "wkt = myPolygon.WKT"
   ]
  },
  {
   "attachments": {},
   "cell_type": "markdown",
   "metadata": {},
   "source": [
    "### 3. Insert Polygon into Postgres"
   ]
  },
  {
   "cell_type": "code",
   "execution_count": null,
   "metadata": {},
   "outputs": [],
   "source": [
    "# Function to Execute a Query\n",
    "def executeInsert(table, polygon_wkt, epsg):\n",
    "    # Set Query\n",
    "    query = f\"INSERT INTO {table} (geom) VALUES (ST_GeomFromText({polygon_wkt}, {epsg}))\"\n",
    "    \n",
    "    # Try to Execute\n",
    "    try:\n",
    "        # Execute Query\n",
    "        cursor.execute(query)\n",
    "        \n",
    "        # Commit to DB\n",
    "        connection.commit()\n",
    "\n",
    "        # Print if Success\n",
    "        print(\"Successful excecution\")\n",
    "\n",
    "    except Exception as e:\n",
    "        # Roll Back Transaction if Invalid Query \n",
    "        connection.rollback()\n",
    "\n",
    "        # Display Error\n",
    "        print(\"Error: \" + e)"
   ]
  },
  {
   "cell_type": "code",
   "execution_count": null,
   "metadata": {},
   "outputs": [],
   "source": [
    "# Make a Connection to the DB\n",
    "connection = psycopg2.connect(\n",
    "    host=\"localhost\",\n",
    "    database=\"your_database_name\",\n",
    "    user=\"your_user_name\",\n",
    "    password=\"your_password\"\n",
    ")\n",
    "\n",
    "# Create Cursor\n",
    "cursor = connection.cursor()\n",
    "\n",
    "# Call Execute Function\n",
    "executeInsert(\"table\", wkt, 4326)"
   ]
  }
 ],
 "metadata": {
  "kernelspec": {
   "display_name": "geo",
   "language": "python",
   "name": "python3"
  },
  "language_info": {
   "codemirror_mode": {
    "name": "ipython",
    "version": 3
   },
   "file_extension": ".py",
   "mimetype": "text/x-python",
   "name": "python",
   "nbconvert_exporter": "python",
   "pygments_lexer": "ipython3",
   "version": "3.9.16"
  },
  "orig_nbformat": 4,
  "vscode": {
   "interpreter": {
    "hash": "def8e632b3bf617b9a70480f352dd1a48ccae5bc3982940c0141c66988093451"
   }
  }
 },
 "nbformat": 4,
 "nbformat_minor": 2
}
