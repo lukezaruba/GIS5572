{
 "cells": [
  {
   "cell_type": "markdown",
   "metadata": {},
   "source": [
    "# Lab 1.2 - Manipulating Abstractions via ArcPy\n",
    "### Luke Zaruba\n",
    "### GIS 5572: ArcGIS II\n",
    "### 2023-02-16"
   ]
  },
  {
   "cell_type": "code",
   "execution_count": 1,
   "metadata": {},
   "outputs": [],
   "source": [
    "import arcpy\n",
    "import os\n",
    "import matplotlib.pyplot as plt"
   ]
  },
  {
   "cell_type": "markdown",
   "metadata": {},
   "source": [
    "## ArcPy\n",
    "\n",
    "In the following code blocks, ArcPy will be used to perform common geospatial manipulation tasks, ranging from high-level tasks to constructing files from GIS primitives. ArcPy is an Esri Python library that acts as an interface which simplifies the bulk of the geoprocessing operations (and much more) that power ArcGIS.\n",
    "\n",
    "For more information on [ArcPy](https://pro.arcgis.com/en/pro-app/latest/arcpy/get-started/what-is-arcpy-.htm), check out the documentation."
   ]
  },
  {
   "cell_type": "markdown",
   "metadata": {},
   "source": [
    "### 0. Creating a File Geodatabase\n",
    "\n",
    "In order to create feature classes, we first need a file geodatabase to store the feature classes. If we wanted to save the new files as shapefiles instead, we could just add *.shp* to the output file name and have the output path be a folder rather than a *.gdb* file"
   ]
  },
  {
   "cell_type": "code",
   "execution_count": 2,
   "metadata": {},
   "outputs": [
    {
     "data": {
      "text/html": [
       "<div class='gpresult'><h2>Messages</h2><div id='messages' data-messages='[\"Start Time: Wednesday, February 15, 2023 7:59:05 PM\",\"Succeeded at Wednesday, February 15, 2023 7:59:05 PM (Elapsed Time: 0.03 seconds)\"]' data-show='true'><div id = 'default' /></div></div>"
      ],
      "text/plain": [
       "<Result '../Outputs\\\\Example.gdb'>"
      ]
     },
     "execution_count": 2,
     "metadata": {},
     "output_type": "execute_result"
    }
   ],
   "source": [
    "# Check if directory exists and create if not\n",
    "fullPath = '../Outputs/Example.gdb'\n",
    "outputDir, gdbName = os.path.split(fullPath)\n",
    "\n",
    "if not os.path.exists(outputDir):\n",
    "    os.mkdir(outputDir)\n",
    "\n",
    "# Create FGDB\n",
    "arcpy.management.CreateFileGDB(outputDir, gdbName)"
   ]
  },
  {
   "cell_type": "markdown",
   "metadata": {},
   "source": [
    "### 1. Create an Empty Feature Class\n",
    "\n",
    "In this example, an empty feature class is being created from scratch using ArcPy."
   ]
  },
  {
   "cell_type": "code",
   "execution_count": 3,
   "metadata": {},
   "outputs": [
    {
     "data": {
      "text/html": [
       "<div class='gpresult'><h2>Messages</h2><div id='messages' data-messages='[\"Start Time: Wednesday, February 15, 2023 7:59:05 PM\",\"Succeeded at Wednesday, February 15, 2023 7:59:06 PM (Elapsed Time: 0.39 seconds)\"]' data-show='true'><div id = 'default' /></div></div>"
      ],
      "text/plain": [
       "<Result 'c:\\\\gitFiles\\\\GIS5572\\\\Lab1\\\\Outputs\\\\Example.gdb\\\\empty'>"
      ]
     },
     "execution_count": 3,
     "metadata": {},
     "output_type": "execute_result"
    }
   ],
   "source": [
    "# Create empty FC\n",
    "arcpy.management.CreateFeatureclass(fullPath, \"empty\")"
   ]
  },
  {
   "cell_type": "markdown",
   "metadata": {},
   "source": [
    "### 2. Create a Feature Class with Points\n",
    "\n",
    "In this example, a feature class is being created from scratch using ArcPy and points are being added into it."
   ]
  },
  {
   "cell_type": "code",
   "execution_count": 4,
   "metadata": {},
   "outputs": [],
   "source": [
    "# Create FC\n",
    "arcpy.management.CreateFeatureclass(fullPath, 'myCities', 'POINT')\n",
    "\n",
    "# Input Data\n",
    "sr = arcpy.SpatialReference(4326)\n",
    "\n",
    "myCityGeoms = [arcpy.PointGeometry(i, sr) for i in [arcpy.Point(-93.2650, 44.9778), arcpy.Point(-92.1005, 46.7867), arcpy.Point(-92.4802, 44.0121)]]\n",
    "\n",
    "# Create Insert Cursor\n",
    "with arcpy.da.InsertCursor(os.path.join(fullPath, 'myCities'), ['SHAPE@']) as curs:\n",
    "    for row in myCityGeoms:\n",
    "        curs.insertRow(row)\n",
    "\n",
    "# Delete Cursor\n",
    "del curs"
   ]
  },
  {
   "cell_type": "markdown",
   "metadata": {},
   "source": [
    "### 3. Create a Feature Class with Lines \n",
    "In this example, a shapefile is being created from scratch using ArcPy and a single line feature is being added into it."
   ]
  },
  {
   "cell_type": "code",
   "execution_count": 5,
   "metadata": {},
   "outputs": [],
   "source": [
    "# Create FC\n",
    "arcpy.management.CreateFeatureclass(fullPath, 'myLine', 'POLYLINE')\n",
    "\n",
    "# Input Data\n",
    "sr = arcpy.SpatialReference(4326)\n",
    "\n",
    "myLine = arcpy.Polyline(arcpy.Array([arcpy.Point(-93.2650, 44.9778), arcpy.Point(-92.1005, 46.7867), arcpy.Point(-92.4802, 44.0121)]), sr)\n",
    "\n",
    "# Create Insert Cursor\n",
    "curs = arcpy.da.InsertCursor(os.path.join(fullPath, 'myLine'), ['SHAPE@'])\n",
    "\n",
    "# Insert Values\n",
    "curs.insertRow([myLine])\n",
    "\n",
    "# Delete Cursor\n",
    "del curs"
   ]
  },
  {
   "cell_type": "markdown",
   "metadata": {},
   "source": [
    "### 4. Create a Feature Class with Polygons \n",
    "In this example, a feature class is being created from scratch using ArcPy and a single polygon feature is being added into it."
   ]
  },
  {
   "cell_type": "code",
   "execution_count": 6,
   "metadata": {},
   "outputs": [],
   "source": [
    "# Create FC\n",
    "arcpy.management.CreateFeatureclass(fullPath, 'myPolygon', 'POLYGON')\n",
    "\n",
    "# Input Data\n",
    "sr = arcpy.SpatialReference(4326)\n",
    "\n",
    "myPolygon = arcpy.Polygon(arcpy.Array([arcpy.Point(-93.2650, 44.9778), arcpy.Point(-92.1005, 46.7867), arcpy.Point(-92.4802, 44.0121)]), sr)\n",
    "\n",
    "# Create Insert Cursor\n",
    "curs = arcpy.da.InsertCursor(os.path.join(fullPath, 'myPolygon'), ['SHAPE@'])\n",
    "\n",
    "# Insert Values\n",
    "curs.insertRow([myPolygon])\n",
    "\n",
    "# Delete Cursor\n",
    "del curs"
   ]
  },
  {
   "cell_type": "markdown",
   "metadata": {},
   "source": [
    "### 5. View Each Row in an Attribute Table for a Feature Class\n",
    "In this example, we will use the point feature class created in step 2 and examine its contents."
   ]
  },
  {
   "cell_type": "code",
   "execution_count": 7,
   "metadata": {},
   "outputs": [
    {
     "name": "stdout",
     "output_type": "stream",
     "text": [
      "(<PointGeometry object at 0x202ecc7f6a0[0x202eccf6390]>,)\n",
      "(<PointGeometry object at 0x202f6789190[0x202f6789de0]>,)\n",
      "(<PointGeometry object at 0x202ecc7f6a0[0x202eccf6390]>,)\n"
     ]
    }
   ],
   "source": [
    "# Create Search Cursor\n",
    "with arcpy.da.SearchCursor(os.path.join(fullPath, 'myCities'), ['SHAPE@']) as curs:\n",
    "    for row in curs:\n",
    "        print(row)"
   ]
  },
  {
   "cell_type": "markdown",
   "metadata": {},
   "source": [
    "### 6. View Each Geometry Object for a Feature Class\n",
    "In this example, we will view each feature in a Matplotlib plot."
   ]
  },
  {
   "cell_type": "code",
   "execution_count": 8,
   "metadata": {},
   "outputs": [
    {
     "data": {
      "text/plain": [
       "[(-93.2650146484375, 44.9779052734375),\n",
       " (-92.10052490234375, 46.78668212890625),\n",
       " (-92.480224609375, 44.0120849609375)]"
      ]
     },
     "execution_count": 8,
     "metadata": {},
     "output_type": "execute_result"
    }
   ],
   "source": [
    "# Create empty point list\n",
    "pointList = []\n",
    "\n",
    "# Get geom values\n",
    "with arcpy.da.SearchCursor(os.path.join(fullPath, 'myCities'), ['SHAPE@']) as curs:\n",
    "    for row in curs:\n",
    "        x, y = row[0].centroid.X, row[0].centroid.Y\n",
    "        pointList.append((x, y))\n",
    "\n",
    "pointList"
   ]
  },
  {
   "cell_type": "code",
   "execution_count": 9,
   "metadata": {},
   "outputs": [
    {
     "data": {
      "image/png": "[encoded data removed]",
      "text/plain": [
       "<Figure size 1440x360 with 3 Axes>"
      ]
     },
     "metadata": {
      "needs_background": "light"
     },
     "output_type": "display_data"
    }
   ],
   "source": [
    "# Setup MPL\n",
    "fig, ax = plt.subplots(ncols=len(pointList), figsize=(20, 5))\n",
    "\n",
    "# Loop through list and add points to display\n",
    "for i, (x, y) in enumerate(pointList):\n",
    "    ax[i].scatter(x, y)\n",
    "\n",
    "# Display\n",
    "plt.show()"
   ]
  },
  {
   "cell_type": "markdown",
   "metadata": {},
   "source": [
    "### 7. Summarize the Contents of a Feature Class\n",
    "In this example, we will use the feature class that we used in the previous step and summarize its contents."
   ]
  },
  {
   "cell_type": "code",
   "execution_count": 10,
   "metadata": {},
   "outputs": [
    {
     "name": "stdout",
     "output_type": "stream",
     "text": [
      "Fields: ['OBJECTID', 'Shape']\n",
      "Type: Point\n",
      "\n"
     ]
    }
   ],
   "source": [
    "# Summarize FC Contents\n",
    "desc = arcpy.Describe(os.path.join(fullPath, 'myCities'))\n",
    "\n",
    "print(\"Fields: \" + str([i.name for i in desc.fields]) + \"\\n\" + \"Type: \" + desc.shapeType + \"\\n\")"
   ]
  },
  {
   "cell_type": "markdown",
   "metadata": {},
   "source": [
    "### 8. Export to Shapefile\n",
    "In this example, we will export a feature class to a shapefile using ArcPy."
   ]
  },
  {
   "cell_type": "code",
   "execution_count": 11,
   "metadata": {},
   "outputs": [
    {
     "data": {
      "text/html": [
       "<div class='gpresult'><h2>Messages</h2><div id='messages' data-messages='[\"Start Time: Wednesday, February 15, 2023 7:59:08 PM\",\"Succeeded at Wednesday, February 15, 2023 7:59:08 PM (Elapsed Time: 0.10 seconds)\"]' data-show='true'><div id = 'default' /></div></div>"
      ],
      "text/plain": [
       "<Result 'c:\\\\gitFiles\\\\GIS5572\\\\Lab1\\\\Outputs\\\\myCities.shp'>"
      ]
     },
     "execution_count": 11,
     "metadata": {},
     "output_type": "execute_result"
    }
   ],
   "source": [
    "# Export to Shapefile\n",
    "arcpy.conversion.FeatureClassToFeatureClass(os.path.join(fullPath, 'myCities'), os.path.abspath(outputDir), \"myCities.shp\")"
   ]
  },
  {
   "cell_type": "markdown",
   "metadata": {},
   "source": [
    "### 9. Export to Geodatabase\n",
    "Similarly to Shapefiles, Geodatabases are a file format created by Esri, except they are not as easy to access and manipulate with open-source tools as Shapefiles are.\n",
    "\n",
    "By looking at Fiona's supported drivers (as seen in the code block below) we can see a driver called *OpenFileGDB* with a value of *r*. This means that with Fiona, we can actually read in File Geodatabases, but we can not append or write to them, as we can with Shapefiles (seen in the driver called *ESRI Shapefile* with values *raw* for read, append, and write, respectively)."
   ]
  },
  {
   "cell_type": "code",
   "execution_count": 12,
   "metadata": {},
   "outputs": [
    {
     "data": {
      "text/html": [
       "<div class='gpresult'><h2>Messages</h2><div id='messages' data-messages='[\"Start Time: Wednesday, February 15, 2023 7:59:08 PM\",\"c:\\\\gitFiles\\\\GIS5572\\\\Lab1\\\\Outputs\\\\Example.gdb\\\\myCities Successfully converted:  c:\\\\gitFiles\\\\GIS5572\\\\Lab1\\\\Outputs\\\\Export.gdb\\\\myCities\",\"Succeeded at Wednesday, February 15, 2023 7:59:10 PM (Elapsed Time: 1.11 seconds)\"]' data-show='true'><div id = 'default' /></div></div>"
      ],
      "text/plain": [
       "<Result 'c:\\\\gitFiles\\\\GIS5572\\\\Lab1\\\\Outputs\\\\Export.gdb'>"
      ]
     },
     "execution_count": 12,
     "metadata": {},
     "output_type": "execute_result"
    }
   ],
   "source": [
    "# Create New FGDB\n",
    "arcpy.management.CreateFileGDB(outputDir, \"Export.gdb\")\n",
    "\n",
    "# Export to GDB\n",
    "arcpy.conversion.FeatureClassToGeodatabase(os.path.join(os.path.abspath(fullPath), 'myCities'), os.path.join(os.path.abspath(outputDir), \"Export.gdb\"))"
   ]
  },
  {
   "cell_type": "markdown",
   "metadata": {},
   "source": [
    "### Let's Check Out the Results!\n",
    "\n",
    "The following code blocks use Shell Script, as VSCode refers to it (which in my case is Powershell), to check if the outputs are actually there and then deletes them so that we can use other methods to recreate the same files."
   ]
  },
  {
   "cell_type": "code",
   "execution_count": 13,
   "metadata": {
    "vscode": {
     "languageId": "shellscript"
    }
   },
   "outputs": [
    {
     "data": {
      "text/plain": [
       "'c:\\\\gitFiles\\\\GIS5572\\\\Lab1\\\\Notebooks'"
      ]
     },
     "execution_count": 13,
     "metadata": {},
     "output_type": "execute_result"
    }
   ],
   "source": [
    "pwd"
   ]
  },
  {
   "cell_type": "code",
   "execution_count": 14,
   "metadata": {
    "vscode": {
     "languageId": "shellscript"
    }
   },
   "outputs": [
    {
     "name": "stdout",
     "output_type": "stream",
     "text": [
      "c:\\gitFiles\\GIS5572\\Lab1\\Outputs\n"
     ]
    }
   ],
   "source": [
    "cd ../Outputs"
   ]
  },
  {
   "cell_type": "code",
   "execution_count": 15,
   "metadata": {
    "vscode": {
     "languageId": "shellscript"
    }
   },
   "outputs": [
    {
     "name": "stdout",
     "output_type": "stream",
     "text": [
      " Volume in drive C is Windows\n",
      " Volume Serial Number is 4A73-34D5\n",
      "\n",
      " Directory of c:\\gitFiles\\GIS5572\\Lab1\\Outputs\n",
      "\n",
      "02/15/2023  07:59 PM    <DIR>          .\n",
      "02/15/2023  07:59 PM    <DIR>          ..\n",
      "02/15/2023  07:59 PM    <DIR>          Example.gdb\n",
      "02/15/2023  07:59 PM    <DIR>          Export.gdb\n",
      "02/15/2023  07:59 PM                 5 myCities.cpg\n",
      "02/15/2023  07:59 PM                87 myCities.dbf\n",
      "02/15/2023  07:59 PM               172 myCities.sbn\n",
      "02/15/2023  07:59 PM               124 myCities.sbx\n",
      "02/15/2023  07:59 PM               184 myCities.shp\n",
      "02/15/2023  07:59 PM             3,885 myCities.shp.xml\n",
      "02/15/2023  07:59 PM               124 myCities.shx\n",
      "               7 File(s)          4,581 bytes\n",
      "               4 Dir(s)  303,830,863,872 bytes free\n"
     ]
    }
   ],
   "source": [
    "ls"
   ]
  },
  {
   "attachments": {},
   "cell_type": "markdown",
   "metadata": {},
   "source": [
    "All the shapefiles are in the folder, so it looks like everything worked good!"
   ]
  }
 ],
 "metadata": {
  "kernelspec": {
   "display_name": "ArcGISPro",
   "language": "Python",
   "name": "python3"
  },
  "language_info": {
   "codemirror_mode": {
    "name": "ipython",
    "version": 3
   },
   "file_extension": ".py",
   "mimetype": "text/x-python",
   "name": "python",
   "nbconvert_exporter": "python",
   "pygments_lexer": "ipython3",
   "version": "3.9.11"
  },
  "vscode": {
   "interpreter": {
    "hash": "50292bb4526333ce37e4d09044b61ef99ec35aeff4391900d62941fcd82bd551"
   }
  }
 },
 "nbformat": 4,
 "nbformat_minor": 2
}
