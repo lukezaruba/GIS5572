{
 "cells": [
  {
   "attachments": {},
   "cell_type": "markdown",
   "metadata": {},
   "source": [
    "# Lab 1.2 - Manipulating Abstractions via SQL\n",
    "### Luke Zaruba\n",
    "### GIS 5572: ArcGIS II\n",
    "### 2023-02-16"
   ]
  },
  {
   "attachments": {},
   "cell_type": "markdown",
   "metadata": {},
   "source": [
    "## PostgreSQL/PostGIS\n",
    "\n",
    "PostGIS is an extension for PostgreSQL that allows us to make relational databases spatial, meaning that we can store all our favorite primitives like points, lines, polygons, or even rasters in a relational database (for free - since PostgreSQL is open-source!).\n",
    "\n",
    "More information on [PostGIS](https://postgis.net/) can be found at their website."
   ]
  },
  {
   "attachments": {},
   "cell_type": "markdown",
   "metadata": {},
   "source": [
    "### 1. Create an Empty Feature Class (Table)\n",
    "\n",
    "In this example, an empty table is being created from scratch using PostGIS."
   ]
  },
  {
   "attachments": {},
   "cell_type": "markdown",
   "metadata": {},
   "source": [
    "```\n",
    "CREATE TABLE empty (\n",
    "    city_name VARCHAR(100),  \n",
    "    geom GEOMETRY(POINT, 4326)  \n",
    ");\n",
    "```"
   ]
  },
  {
   "attachments": {},
   "cell_type": "markdown",
   "metadata": {},
   "source": [
    "### 2. Create a Feature Class (Table) with Points\n",
    "\n",
    "In this example, a table is being created from scratch using PostGIS and points are being added into it."
   ]
  },
  {
   "attachments": {},
   "cell_type": "markdown",
   "metadata": {},
   "source": [
    "```\n",
    "CREATE TABLE myCities (\n",
    "  city_name VARCHAR(100),\n",
    "  geom GEOMETRY(POINT, 4326)\n",
    ");\n",
    "\n",
    "INSERT INTO myCities (city_name, geom)\n",
    "VALUES \n",
    "    ('Minneapolis', ST_GeomFromText('POINT(-93.2650 44.9778)', 4326)), \n",
    "    ('Duluth', ST_GeomFromText('POINT(-92.1005 46.7867)', 4326)),\n",
    "    ('Rochester', ST_GeomFromText('POINT(-92.4802 44.0121)', 4326));\n",
    "```"
   ]
  },
  {
   "attachments": {},
   "cell_type": "markdown",
   "metadata": {},
   "source": [
    "### 3. Create a Feature Class (Table) with Lines \n",
    "\n",
    "In this example, a table is being created from scratch using PostGIS and line features are being added into it."
   ]
  },
  {
   "attachments": {},
   "cell_type": "markdown",
   "metadata": {},
   "source": [
    "```\n",
    "CREATE TABLE myCityLines (\n",
    "  city_name VARCHAR(100),\n",
    "  geom GEOMETRY(LINESTRING, 4326)\n",
    ");\n",
    "\n",
    "INSERT INTO myCityLines (city_name, geom)\n",
    "VALUES \n",
    "    ('MinneapolisDuluth', ST_GeomFromText('LINESTRING(-93.2650 44.9778 -92.1005 46.7867)', 4326)),\n",
    "    ('DuluthRochester', ST_GeomFromText('LINESTRING(-92.1005 46.7867 -92.4802 44.0121)', 4326)),\n",
    "    ('RochesterMinneapolis', ST_GeomFromText('LINESTRING(-92.4802 44.0121 -93.2650 44.9778)', 4326));\n",
    "```"
   ]
  },
  {
   "attachments": {},
   "cell_type": "markdown",
   "metadata": {},
   "source": [
    "### 4. Create a Feature Class (Table) with Polygons \n",
    "\n",
    "In this example, a table is being created from scratch using PostGOS and a single polygon feature is being added into it."
   ]
  },
  {
   "attachments": {},
   "cell_type": "markdown",
   "metadata": {},
   "source": [
    "```\n",
    "CREATE TABLE myCityPolygon (\n",
    "  city_name VARCHAR(100),\n",
    "  geom GEOMETRY(POLYGON, 4326)\n",
    ");\n",
    "\n",
    "INSERT INTO myCityPolygon (city_name, geom)\n",
    "VALUES ('MinneapolisDuluthRochester', ST_GeomFromText('POLYGON(-93.2650 44.9778 -92.1005 46.7867 -92.4802 44.0121)', 4326));\n",
    "```"
   ]
  },
  {
   "attachments": {},
   "cell_type": "markdown",
   "metadata": {},
   "source": [
    "### 5. View Each Row in an Attribute Table for a Feature Class (Table)\n",
    "\n",
    "In this example, we will use the point table created in step 2 and examine its contents."
   ]
  },
  {
   "attachments": {},
   "cell_type": "markdown",
   "metadata": {},
   "source": [
    "```\n",
    "SELECT *\n",
    "FROM myCities;\n",
    "```"
   ]
  },
  {
   "attachments": {},
   "cell_type": "markdown",
   "metadata": {},
   "source": [
    "### 6. View Each Geometry Object for a Feature Class (Table)\n",
    "\n",
    "In this example, we will use the use the point table we created in step 2 and examine each geometry object.\n",
    "\n",
    "This can easily be done through pgAdmin or by connecting to the database through ArcGIS Pro or QGIS. For simplicity, viewing features through pgAdmin will be shown here.\n",
    "\n",
    "1. Open the query window, by right-clicking on the database where the table is stored and click \"Query\"\n",
    "2. In the query window, write and execute the following SQL expression (where \"myCities\" is replaced by whatever table name you are using):\n",
    "\n",
    "    `SELECT * FROM myCities;`\n",
    "3. Click on the map icon above the \"geom\" column and this will open up a map where you should see the geometries of each feature in your table."
   ]
  },
  {
   "attachments": {},
   "cell_type": "markdown",
   "metadata": {},
   "source": [
    "### 7. Summarize the Contents of a Feature Class (Table)\n",
    "In this example, we will use the table that we used in the previous step and summarize its contents."
   ]
  },
  {
   "attachments": {},
   "cell_type": "markdown",
   "metadata": {},
   "source": [
    "`myCities`"
   ]
  },
  {
   "attachments": {},
   "cell_type": "markdown",
   "metadata": {},
   "source": [
    "### 8. Export to Shapefile\n",
    "\n",
    "There are many ways to accomplish this, but the easiest way is to connect to the database through ArcGIS Pro or QGIS and then export to a shapefile using the GUI in either respective software.\n",
    "\n",
    "Here are the steps for using ArcGIS Pro:\n",
    "\n",
    "1. Make a new database connection by right-clicking on Databases in the Catalog Pane and click Add Database Connection\n",
    "2. A new window will pop up, where you will need to enter in the following details about your database.\n",
    "    - Database Platform: PostgreSQL\n",
    "    - Instance: The IP address to your instance (e.g., External IP Address in Google Cloud)\n",
    "    - Authentication Type: Database authentication\n",
    "        - User Name and Password: Your PostgreSQL login credentials\n",
    "    - Database: The name of the database you would like to connect to\n",
    "3. After making the database connection, add the table/layer you want to convert to a shapefile into the map.\n",
    "4. Right-click on the layer in the Contents Pane and hover over Export, before clicking Export Features.\n",
    "5. A new export window should pop up, where you will simply need to select the output firectory and the output name.\n",
    "    - *Note:* If the output directory is a Geodatabase, the output will be a feature class. If the output directory is a folder, the output will be a shapefile.\n",
    "\n",
    "\n",
    "It is possible to export a table to a shapefile through command line as well, making use of either `pgsql2shp` or `ogr2ogr` but it is easier in most cases to just use a GUI."
   ]
  },
  {
   "attachments": {},
   "cell_type": "markdown",
   "metadata": {},
   "source": [
    "### 9. Export to Geodatabase\n",
    "Similarly to Shapefiles, Geodatabases are a file format created by Esri, except they are not as easy to access and manipulate with open-source tools as Shapefiles are.\n",
    "\n",
    "The steps to export a table to a feature class in a Geodatabase can be found in the previous step. The only difference is the output directory type, as noted in the instructions provided."
   ]
  }
 ],
 "metadata": {
  "kernelspec": {
   "display_name": "geo",
   "language": "python",
   "name": "python3"
  },
  "language_info": {
   "codemirror_mode": {
    "name": "ipython",
    "version": 3
   },
   "file_extension": ".py",
   "mimetype": "text/x-python",
   "name": "python",
   "nbconvert_exporter": "python",
   "pygments_lexer": "ipython3",
   "version": "3.9.16"
  },
  "orig_nbformat": 4,
  "vscode": {
   "interpreter": {
    "hash": "def8e632b3bf617b9a70480f352dd1a48ccae5bc3982940c0141c66988093451"
   }
  }
 },
 "nbformat": 4,
 "nbformat_minor": 2
}
