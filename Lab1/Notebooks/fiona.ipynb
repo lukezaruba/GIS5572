{
 "cells": [
  {
   "attachments": {},
   "cell_type": "markdown",
   "metadata": {},
   "source": [
    "# Lab 1.2 - Manipulating Abstractions via Open-Source Python\n",
    "### Luke Zaruba\n",
    "### GIS 5572: ArcGIS II\n",
    "### 2023-02-16"
   ]
  },
  {
   "cell_type": "code",
   "execution_count": 1,
   "metadata": {},
   "outputs": [],
   "source": [
    "import fiona\n",
    "import geopandas as gpd\n",
    "import shapely"
   ]
  },
  {
   "attachments": {},
   "cell_type": "markdown",
   "metadata": {},
   "source": [
    "## Fiona\n",
    "\n",
    "In the following code blocks, Fiona and Shapely will be used to perform common geospatial manipulation tasks, ranging from high-level tasks to constructing files from GIS primitives. They act as open-source alternatives to ArcPy.\n",
    "\n",
    "Fiona is a Python library that acts as a \"neat and nimble API\" for vector OGR operations in Python. Furthermore, primitives can be constructed using Shapely, a Python wrapper for GEOS, a popular geometry library, that is also responsible for powering geometries in PostGIS. In most of the examples here, primitives are actually constructed from native Python data types, rather than Shapely objects.\n",
    "\n",
    "For more information on [Fiona](https://fiona.readthedocs.io/en/latest/README.html) and [Shapely](https://shapely.readthedocs.io/en/stable/index.html), check out their documentation."
   ]
  },
  {
   "attachments": {},
   "cell_type": "markdown",
   "metadata": {},
   "source": [
    "### 1. Create an Empty Feature Class (Shapefile)\n",
    "\n",
    "In this example, an empty shapefile is being created from scratch using Fiona."
   ]
  },
  {
   "cell_type": "code",
   "execution_count": 2,
   "metadata": {},
   "outputs": [],
   "source": [
    "# Defining a Schema\n",
    "emptySchema = {'geometry':'Point', 'properties':[('Name', 'str')]}\n",
    "\n",
    "# Open Shapefile Object\n",
    "myEmptyShp = fiona.open('../Outputs/empty.shp', mode='w', driver='ESRI Shapefile', schema=emptySchema, crs=\"EPSG:4326\")\n",
    "\n",
    "# Close Shapefile Object\n",
    "myEmptyShp.close()"
   ]
  },
  {
   "attachments": {},
   "cell_type": "markdown",
   "metadata": {},
   "source": [
    "### 2. Create a Feature Class (Shapefile) with Points\n",
    "\n",
    "In this example, a shapefile is being created from scratch using Fiona and points are being added into it."
   ]
  },
  {
   "cell_type": "code",
   "execution_count": 3,
   "metadata": {},
   "outputs": [],
   "source": [
    "# Input Data\n",
    "myCities = {'Minneapolis':[-93.2650, 44.9778], 'Duluth':[-92.1005, 46.7867], 'Rochester':[-92.4802, 44.0121]}\n",
    "\n",
    "# Defining a Schema\n",
    "ptSchema = {'geometry':'Point', 'properties':[('Name', 'str')]}\n",
    "\n",
    "# Open Shapefile Object\n",
    "myPointShp = fiona.open('../Outputs/myCities.shp', mode='w', driver='ESRI Shapefile', schema=ptSchema, crs=\"EPSG:4326\")\n",
    "\n",
    "# Write Key-Value Pairs from myCities dict into myShp Shapefile\n",
    "for city in myCities:\n",
    "    rowDict = {\n",
    "        'geometry' : {'type' : 'Point',\n",
    "                    'coordinates' : (myCities[city][0], myCities[city][1])}, \n",
    "        'properties' : {'Name':city},\n",
    "    }\n",
    "\n",
    "    myPointShp.write(rowDict)\n",
    "\n",
    "# Close Out of Shapefile\n",
    "myPointShp.close()"
   ]
  },
  {
   "attachments": {},
   "cell_type": "markdown",
   "metadata": {},
   "source": [
    "### 3. Create a Feature Class (Shapefile) with Lines \n",
    "In this example, a shapefile is being created from scratch using Fiona and a single line feature is being added into it."
   ]
  },
  {
   "cell_type": "code",
   "execution_count": 4,
   "metadata": {},
   "outputs": [],
   "source": [
    "# Input Data\n",
    "myCityLines = [(-93.2650, 44.9778), (-92.1005, 46.7867), (-92.4802, 44.0121)]\n",
    "\n",
    "# Defining a Schema\n",
    "lineSchema = {'geometry':'LineString', 'properties':[('Name', 'str')]}\n",
    "\n",
    "# Open Shapefile Object\n",
    "myLineShp = fiona.open('../Outputs/myLine.shp', mode='w', driver='ESRI Shapefile', schema=lineSchema, crs=\"EPSG:4326\")\n",
    "\n",
    "# Write Coordinates from myCityLines list into myShp Shapefile\n",
    "rowDict = {\n",
    "        'geometry' : {'type' : 'LineString',\n",
    "                    'coordinates' : myCityLines}, \n",
    "        'properties' : {'Name' : 'Feature1'},\n",
    "    }\n",
    "\n",
    "myLineShp.write(rowDict)\n",
    "\n",
    "# Close Out of Shapefile\n",
    "myLineShp.close()"
   ]
  },
  {
   "attachments": {},
   "cell_type": "markdown",
   "metadata": {},
   "source": [
    "### 4. Create a Feature Class (Shapefile) with Polygons \n",
    "In this example, a shapefile is being created from scratch using Fiona and a single polygon feature is being added into it.\n",
    "\n",
    "*Note:* Notice how although there are many similarities here with creating lines, there are a few differences"
   ]
  },
  {
   "cell_type": "code",
   "execution_count": 5,
   "metadata": {},
   "outputs": [],
   "source": [
    "# Input Data\n",
    "myCityPolygon = [(-93.2650, 44.9778), (-92.1005, 46.7867), (-92.4802, 44.0121)]\n",
    "\n",
    "# Defining a Schema\n",
    "polygonSchema = {'geometry':'Polygon', 'properties':[('Name', 'str')]}\n",
    "\n",
    "# Open Shapefile Object\n",
    "myPolygonShp = fiona.open('../Outputs/myPolygon.shp', mode='w', driver='ESRI Shapefile', schema=polygonSchema, crs=\"EPSG:4326\")\n",
    "\n",
    "# Write Coordinates from myCityLines list into myShp Shapefile\n",
    "rowDict = {\n",
    "        'geometry' : {'type' : 'Polygon',\n",
    "                    'coordinates' : [myCityPolygon]}, \n",
    "        'properties' : {'Name' : 'Feature1'},\n",
    "    }\n",
    "\n",
    "myPolygonShp.write(rowDict)\n",
    "\n",
    "# Close Out of Shapefile\n",
    "myPolygonShp.close()"
   ]
  },
  {
   "attachments": {},
   "cell_type": "markdown",
   "metadata": {},
   "source": [
    "### 5. View Each Row in an Attribute Table for a Feature Class (Shapefile)\n",
    "In this example, we will use the point Shapefile created in step 2 and load it into a GeoDataFrame to examine it in a table."
   ]
  },
  {
   "cell_type": "code",
   "execution_count": 6,
   "metadata": {},
   "outputs": [
    {
     "data": {
      "text/html": [
       "<div>\n",
       "<style scoped>\n",
       "    .dataframe tbody tr th:only-of-type {\n",
       "        vertical-align: middle;\n",
       "    }\n",
       "\n",
       "    .dataframe tbody tr th {\n",
       "        vertical-align: top;\n",
       "    }\n",
       "\n",
       "    .dataframe thead th {\n",
       "        text-align: right;\n",
       "    }\n",
       "</style>\n",
       "<table border=\"1\" class=\"dataframe\">\n",
       "  <thead>\n",
       "    <tr style=\"text-align: right;\">\n",
       "      <th></th>\n",
       "      <th>Name</th>\n",
       "      <th>geometry</th>\n",
       "    </tr>\n",
       "  </thead>\n",
       "  <tbody>\n",
       "    <tr>\n",
       "      <th>0</th>\n",
       "      <td>Minneapolis</td>\n",
       "      <td>POINT (-93.26500 44.97780)</td>\n",
       "    </tr>\n",
       "    <tr>\n",
       "      <th>1</th>\n",
       "      <td>Duluth</td>\n",
       "      <td>POINT (-92.10050 46.78670)</td>\n",
       "    </tr>\n",
       "    <tr>\n",
       "      <th>2</th>\n",
       "      <td>Rochester</td>\n",
       "      <td>POINT (-92.48020 44.01210)</td>\n",
       "    </tr>\n",
       "  </tbody>\n",
       "</table>\n",
       "</div>"
      ],
      "text/plain": [
       "          Name                    geometry\n",
       "0  Minneapolis  POINT (-93.26500 44.97780)\n",
       "1       Duluth  POINT (-92.10050 46.78670)\n",
       "2    Rochester  POINT (-92.48020 44.01210)"
      ]
     },
     "execution_count": 6,
     "metadata": {},
     "output_type": "execute_result"
    }
   ],
   "source": [
    "# Load Shapefile into GDF\n",
    "myCitiesGDF = gpd.read_file('../Outputs/myCities.shp')\n",
    "\n",
    "# View GDF\n",
    "myCitiesGDF"
   ]
  },
  {
   "attachments": {},
   "cell_type": "markdown",
   "metadata": {},
   "source": [
    "### 6. View Each Geometry Object for a Feature Class (Shapefile)\n",
    "In this example, we will use the GeoDataFrame that we created in the previous step and view each feature."
   ]
  },
  {
   "cell_type": "code",
   "execution_count": 7,
   "metadata": {},
   "outputs": [
    {
     "data": {
      "image/png": "[encoded data removed]",
      "text/plain": [
       "<Figure size 640x480 with 1 Axes>"
      ]
     },
     "metadata": {},
     "output_type": "display_data"
    },
    {
     "data": {
      "image/png": "[encoded data removed]",
      "text/plain": [
       "<Figure size 640x480 with 1 Axes>"
      ]
     },
     "metadata": {},
     "output_type": "display_data"
    },
    {
     "data": {
      "image/png": "[encoded data removed]",
      "text/plain": [
       "<Figure size 640x480 with 1 Axes>"
      ]
     },
     "metadata": {},
     "output_type": "display_data"
    }
   ],
   "source": [
    "# Loop through GDF and Plot each Feature\n",
    "for i in range(len(myCitiesGDF)):\n",
    "    myCitiesGDF.loc[[i], 'geometry'].plot()"
   ]
  },
  {
   "attachments": {},
   "cell_type": "markdown",
   "metadata": {},
   "source": [
    "### 7. Summarize the Contents of a Feature Class (Shapefile)\n",
    "In this example, we will use the GeoDataFrame that we used in the previous step and summarize its contents."
   ]
  },
  {
   "cell_type": "code",
   "execution_count": 8,
   "metadata": {},
   "outputs": [
    {
     "name": "stdout",
     "output_type": "stream",
     "text": [
      "<class 'geopandas.geodataframe.GeoDataFrame'>\n",
      "RangeIndex: 3 entries, 0 to 2\n",
      "Data columns (total 2 columns):\n",
      " #   Column    Non-Null Count  Dtype   \n",
      "---  ------    --------------  -----   \n",
      " 0   Name      3 non-null      object  \n",
      " 1   geometry  3 non-null      geometry\n",
      "dtypes: geometry(1), object(1)\n",
      "memory usage: 176.0+ bytes\n"
     ]
    }
   ],
   "source": [
    "# Summarize GDF Contents\n",
    "myCitiesGDF.info()"
   ]
  },
  {
   "attachments": {},
   "cell_type": "markdown",
   "metadata": {},
   "source": [
    "### 8. Export to Shapefile\n",
    "Because we already know how to create a Shapefile from scratch using Fiona, we will start with a GeoDataFrame and export it to a Shapefile in this example."
   ]
  },
  {
   "cell_type": "code",
   "execution_count": 9,
   "metadata": {},
   "outputs": [
    {
     "name": "stderr",
     "output_type": "stream",
     "text": [
      "/Users/lukezaruba/opt/anaconda3/envs/geo/lib/python3.9/site-packages/geopandas/io/file.py:299: FutureWarning: pandas.Int64Index is deprecated and will be removed from pandas in a future version. Use pandas.Index with the appropriate dtype instead.\n",
      "  pd.Int64Index,\n"
     ]
    }
   ],
   "source": [
    "# Export to Shapefile\n",
    "myCitiesGDF.to_file('../Outputs/myGDF.shp')"
   ]
  },
  {
   "attachments": {},
   "cell_type": "markdown",
   "metadata": {},
   "source": [
    "### 9. Export to Geodatabase\n",
    "Similarly to Shapefiles, Geodatabases are a file format created by Esri, except they are not as easy to access and manipulate with open-source tools as Shapefiles are.\n",
    "\n",
    "By looking at Fiona's supported drivers (as seen in the code block below) we can see a driver called *OpenFileGDB* with a value of *r*. This means that with Fiona, we can actually read in File Geodatabases, but we can not append or write to them, as we can with Shapefiles (seen in the driver called *ESRI Shapefile* with values *raw* for read, append, and write, respectively)."
   ]
  },
  {
   "cell_type": "code",
   "execution_count": 10,
   "metadata": {},
   "outputs": [
    {
     "data": {
      "text/plain": [
       "{'AeronavFAA': 'r',\n",
       " 'ARCGEN': 'r',\n",
       " 'BNA': 'rw',\n",
       " 'DXF': 'rw',\n",
       " 'CSV': 'raw',\n",
       " 'OpenFileGDB': 'r',\n",
       " 'ESRIJSON': 'r',\n",
       " 'ESRI Shapefile': 'raw',\n",
       " 'GeoJSON': 'raw',\n",
       " 'GeoJSONSeq': 'rw',\n",
       " 'GPKG': 'raw',\n",
       " 'GML': 'rw',\n",
       " 'OGR_GMT': 'rw',\n",
       " 'GPX': 'rw',\n",
       " 'GPSTrackMaker': 'rw',\n",
       " 'Idrisi': 'r',\n",
       " 'MapInfo File': 'raw',\n",
       " 'DGN': 'raw',\n",
       " 'PCIDSK': 'raw',\n",
       " 'OGR_PDS': 'r',\n",
       " 'S57': 'r',\n",
       " 'SEGY': 'r',\n",
       " 'SQLite': 'raw',\n",
       " 'SUA': 'r',\n",
       " 'TopoJSON': 'r'}"
      ]
     },
     "execution_count": 10,
     "metadata": {},
     "output_type": "execute_result"
    }
   ],
   "source": [
    "fiona.supported_drivers"
   ]
  },
  {
   "attachments": {},
   "cell_type": "markdown",
   "metadata": {},
   "source": [
    "### Let's Check Out the Results!\n",
    "\n",
    "The following code blocks use Shell Script, as VSCode refers to it (which in my case is Zsh), to check if the outputs are actually there and then deletes them so that we can use other methods to recreate the same files."
   ]
  },
  {
   "cell_type": "code",
   "execution_count": 11,
   "metadata": {
    "vscode": {
     "languageId": "shellscript"
    }
   },
   "outputs": [
    {
     "data": {
      "text/plain": [
       "'/Users/lukezaruba/Documents/Spring 2023/GIS 5572/GitHub/GIS5572/Lab1/Notebooks'"
      ]
     },
     "execution_count": 11,
     "metadata": {},
     "output_type": "execute_result"
    }
   ],
   "source": [
    "pwd"
   ]
  },
  {
   "cell_type": "code",
   "execution_count": 12,
   "metadata": {
    "vscode": {
     "languageId": "shellscript"
    }
   },
   "outputs": [
    {
     "name": "stdout",
     "output_type": "stream",
     "text": [
      "/Users/lukezaruba/Documents/Spring 2023/GIS 5572/GitHub/GIS5572/Lab1/Outputs\n"
     ]
    }
   ],
   "source": [
    "cd ../Outputs"
   ]
  },
  {
   "cell_type": "code",
   "execution_count": 13,
   "metadata": {
    "vscode": {
     "languageId": "shellscript"
    }
   },
   "outputs": [
    {
     "name": "stdout",
     "output_type": "stream",
     "text": [
      "empty.cpg      myCities.cpg   myGDF.cpg      myLine.cpg     myPolygon.cpg\n",
      "empty.dbf      myCities.dbf   myGDF.dbf      myLine.dbf     myPolygon.dbf\n",
      "empty.prj      myCities.prj   myGDF.prj      myLine.prj     myPolygon.prj\n",
      "empty.shp      myCities.shp   myGDF.shp      myLine.shp     myPolygon.shp\n",
      "empty.shx      myCities.shx   myGDF.shx      myLine.shx     myPolygon.shx\n"
     ]
    }
   ],
   "source": [
    "ls"
   ]
  },
  {
   "attachments": {},
   "cell_type": "markdown",
   "metadata": {},
   "source": [
    "All the shapefiles are in the folder, so it looks like everything worked good!\n",
    "\n",
    "Now we can delete the files, so that we can run other notebooks to create the data using various other methods."
   ]
  },
  {
   "cell_type": "code",
   "execution_count": 14,
   "metadata": {
    "vscode": {
     "languageId": "shellscript"
    }
   },
   "outputs": [],
   "source": [
    "rm *"
   ]
  },
  {
   "cell_type": "code",
   "execution_count": 15,
   "metadata": {
    "vscode": {
     "languageId": "shellscript"
    }
   },
   "outputs": [],
   "source": [
    "ls"
   ]
  },
  {
   "attachments": {},
   "cell_type": "markdown",
   "metadata": {},
   "source": [
    "All the shapefiles have been deleted. Time to test out some other methods!"
   ]
  }
 ],
 "metadata": {
  "kernelspec": {
   "display_name": "geo",
   "language": "python",
   "name": "python3"
  },
  "language_info": {
   "codemirror_mode": {
    "name": "ipython",
    "version": 3
   },
   "file_extension": ".py",
   "mimetype": "text/x-python",
   "name": "python",
   "nbconvert_exporter": "python",
   "pygments_lexer": "ipython3",
   "version": "3.9.16"
  },
  "orig_nbformat": 4,
  "vscode": {
   "interpreter": {
    "hash": "def8e632b3bf617b9a70480f352dd1a48ccae5bc3982940c0141c66988093451"
   }
  }
 },
 "nbformat": 4,
 "nbformat_minor": 2
}
