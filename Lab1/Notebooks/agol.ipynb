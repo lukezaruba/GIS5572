{
 "cells": [
  {
   "attachments": {},
   "cell_type": "markdown",
   "metadata": {},
   "source": [
    "# Lab 1.2 - Basic Data Pipeline with ArcGIS API for Python\n",
    "### Luke Zaruba\n",
    "### GIS 5572: ArcGIS II\n",
    "### 2023-02-16"
   ]
  },
  {
   "cell_type": "code",
   "execution_count": 1,
   "metadata": {},
   "outputs": [
    {
     "name": "stderr",
     "output_type": "stream",
     "text": [
      "/opt/conda/lib/python3.9/site-packages/arcgis/gis/__init__.py:597: UserWarning: You are logged on as zarub006_UMN with an administrator role, proceed with caution.\n",
      "  warnings.warn(\n"
     ]
    }
   ],
   "source": [
    "import arcgis\n",
    "gis = arcgis.gis.GIS(\"home\")"
   ]
  },
  {
   "cell_type": "code",
   "execution_count": 2,
   "metadata": {},
   "outputs": [
    {
     "name": "stdout",
     "output_type": "stream",
     "text": [
      "b7613acdb43c4e31b899d193eb3733cd\n",
      "https://services.arcgis.com/8df8p0NlLFEShl0r/arcgis/rest/services/MyGJS/FeatureServer/0\n"
     ]
    }
   ],
   "source": [
    "# File previously loaded into AGOL (manually)\n",
    "my_gjs = \"/arcgis/home/mygjs.geojson\"\n",
    "\n",
    "# Add item \n",
    "props = {\"title\":\"MyGJS\", \"description\":\"GIS 5572 Lab 1 GJS\", \"tags\":\"GIS 5572\", \"type\":\"GeoJson\"}\n",
    "gjs_item = gis.content.add(item_properties=props, data=my_gjs, )\n",
    "\n",
    "# Publish item\n",
    "gjs_service = gjs_item.publish(None)\n",
    "\n",
    "# Display service\n",
    "print(str(gjs_service.id) + \"\\n\" + str(gjs_service.layers[0].url))"
   ]
  },
  {
   "cell_type": "code",
   "execution_count": 3,
   "metadata": {},
   "outputs": [
    {
     "data": {
      "application/vnd.jupyter.widget-view+json": {
       "model_id": "a74a679098af4837b8ccbac947073b25",
       "version_major": 2,
       "version_minor": 0
      },
      "text/plain": [
       "MapView(layout=Layout(height='400px', width='100%'))"
      ]
     },
     "metadata": {},
     "output_type": "display_data"
    },
    {
     "data": {
      "text/html": [
       "<div class=\"map-static-img-preview-b6971e6e-3704-485e-98a3-160c88ef079e\"><img src=\"\"></img></div>"
      ],
      "text/plain": [
       "<IPython.core.display.HTML object>"
      ]
     },
     "metadata": {},
     "output_type": "display_data"
    },
    {
     "data": {
      "text/html": [
       "<div class=\"map-html-embed-preview-b6971e6e-3704-485e-98a3-160c88ef079e\"></div>"
      ],
      "text/plain": [
       "<IPython.core.display.HTML object>"
      ]
     },
     "metadata": {},
     "output_type": "display_data"
    }
   ],
   "source": [
    "# Create map\n",
    "my_map = gis.map(\"Minnesota\")\n",
    "\n",
    "# Add layer\n",
    "my_map.add_layer(gis.content.get(gjs_service.id))\n",
    "\n",
    "# Display map\n",
    "my_map"
   ]
  }
 ],
 "metadata": {
  "esriNotebookRuntime": {
   "notebookRuntimeName": "ArcGIS Notebook Python 3 Standard",
   "notebookRuntimeVersion": "7.0"
  },
  "kernelspec": {
   "display_name": "base",
   "language": "python",
   "name": "python3"
  },
  "language_info": {
   "codemirror_mode": {
    "name": "ipython",
    "version": 3
   },
   "file_extension": ".py",
   "mimetype": "text/x-python",
   "name": "python",
   "nbconvert_exporter": "python",
   "pygments_lexer": "ipython3",
   "version": "3.9.13"
  },
  "vscode": {
   "interpreter": {
    "hash": "a78cc6b62dde13031b865dfdb4f7ac58ddfab9ab3bc645593ff52dcb37494abf"
   }
  }
 },
 "nbformat": 4,
 "nbformat_minor": 2
}
