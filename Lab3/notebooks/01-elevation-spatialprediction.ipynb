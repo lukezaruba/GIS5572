{
 "cells": [
  {
   "attachments": {},
   "cell_type": "markdown",
   "metadata": {},
   "source": [
    "# Lab 3 - Spatial Prediction Pipeline with ArcPy\n",
    "## Elevation\n",
    "### Luke Zaruba\n",
    "### GIS 5572: ArcGIS II\n",
    "### 2023-04-06\n",
    "\n",
    "In this notebook, an automated end-to-end pipeline is being implemented which identifies the best interpolation method based on accuracy, calculates point accuracy at locations with known values, aggregates the values to H3 hexagons (making it easier to work with in Postgres in GCP), before exporting the layers to the Postgres database on GCP."
   ]
  },
  {
   "cell_type": "code",
   "execution_count": 1,
   "metadata": {},
   "outputs": [],
   "source": [
    "# Import Packages\n",
    "import sys\n",
    "\n",
    "# Import Pipeline class to run pipeline\n",
    "# Need to Append Path for Pro - Can use '..' outside of Pro in IDE/Editor (if using structure of repo)\n",
    "sys.path.append(r\"C:\\gitFiles\\GIS5572\\Lab3\")\n",
    "from utils.interpolation import Pipeline"
   ]
  },
  {
   "cell_type": "code",
   "execution_count": 2,
   "metadata": {},
   "outputs": [],
   "source": [
    "# Define Variables\n",
    "elevation_points = r\"C:\\Users\\lukea\\Documents\\ArcGIS\\Projects\\lab2_gis5572\\lab2_gis5572.gdb\\elevation1km_pt\"\n",
    "output_directory = r\"C:\\Users\\lukea\\Documents\\ArcGIS\\Projects\\GIS5572 - Lab 3\"\n",
    "output_gdb = r\"C:\\Users\\lukea\\Documents\\ArcGIS\\Projects\\GIS5572 - Lab 3\\GIS5572 - Lab 3.gdb\"\n",
    "sde_connection = r\"C:\\Users\\lukea\\Documents\\ArcGIS\\Projects\\GIS5572 - Lab 3\\lab3.sde\""
   ]
  },
  {
   "attachments": {},
   "cell_type": "markdown",
   "metadata": {},
   "source": [
    "## Run Pipeline"
   ]
  },
  {
   "cell_type": "code",
   "execution_count": 3,
   "metadata": {},
   "outputs": [],
   "source": [
    "# Create Elevation Pipeline Object\n",
    "elevationPipeline = Pipeline(elevation_points, output_directory, output_gdb, \"grid_code\")"
   ]
  },
  {
   "cell_type": "code",
   "execution_count": 4,
   "metadata": {},
   "outputs": [
    {
     "name": "stdout",
     "output_type": "stream",
     "text": [
      "Start Time: Thursday, March 30, 2023 9:36:25 PM\n",
      "Calculating Ordinary Kriging – Default\n",
      "Calculating Ordinary Kriging – Optimized\n",
      "Calculating Universal Kriging – Default\n",
      "Calculating Universal Kriging – Optimized\n",
      "Calculating Inverse Distance Weighted - Default\n",
      "Calculating Inverse Distance Weighted - Optimized\n",
      " \n",
      "\n",
      "--------------------------------------------\n",
      "RANK | NAME\n",
      "--------------------------------------------\n",
      "\n",
      "\n",
      "1    | Universal Kriging – Optimized\n",
      "\n",
      "\n",
      "2    | Universal Kriging – Default\n",
      "\n",
      "\n",
      "3    | Inverse Distance Weighted - Optimized\n",
      "\n",
      "\n",
      "4    | Ordinary Kriging – Default\n",
      "\n",
      "\n",
      "5    | Ordinary Kriging – Optimized\n",
      "\n",
      "\n",
      "6    | Inverse Distance Weighted - Default\n",
      "--------------------------------------------\n",
      "Succeeded at Thursday, March 30, 2023 9:37:43 PM (Elapsed Time: 1 minutes 17 seconds)\n"
     ]
    }
   ],
   "source": [
    "# Run Exploratory Interpolation\n",
    "elevationPipeline.run_exploratory_interpolation()"
   ]
  },
  {
   "cell_type": "code",
   "execution_count": 5,
   "metadata": {},
   "outputs": [
    {
     "data": {
      "text/html": [
       "<div>\n",
       "<style scoped>\n",
       "    .dataframe tbody tr th:only-of-type {\n",
       "        vertical-align: middle;\n",
       "    }\n",
       "\n",
       "    .dataframe tbody tr th {\n",
       "        vertical-align: top;\n",
       "    }\n",
       "\n",
       "    .dataframe thead th {\n",
       "        text-align: right;\n",
       "    }\n",
       "</style>\n",
       "<table border=\"1\" class=\"dataframe\">\n",
       "  <thead>\n",
       "    <tr style=\"text-align: right;\">\n",
       "      <th></th>\n",
       "      <th>OID_</th>\n",
       "      <th>DESCR</th>\n",
       "      <th>RANK</th>\n",
       "      <th>INCLUDED</th>\n",
       "      <th>RMSE</th>\n",
       "      <th>ME</th>\n",
       "      <th>ME_STD</th>\n",
       "      <th>RMSE_STD</th>\n",
       "      <th>ASE</th>\n",
       "      <th>MAX_ERROR</th>\n",
       "      <th>PERC_ERROR</th>\n",
       "    </tr>\n",
       "  </thead>\n",
       "  <tbody>\n",
       "    <tr>\n",
       "      <th>0</th>\n",
       "      <td>1</td>\n",
       "      <td>Universal Kriging – Optimized</td>\n",
       "      <td>1</td>\n",
       "      <td>Yes</td>\n",
       "      <td>25.641630</td>\n",
       "      <td>-0.017781</td>\n",
       "      <td>-0.001510</td>\n",
       "      <td>1.548306</td>\n",
       "      <td>16.519436</td>\n",
       "      <td>426.938871</td>\n",
       "      <td>88.173274</td>\n",
       "    </tr>\n",
       "    <tr>\n",
       "      <th>1</th>\n",
       "      <td>2</td>\n",
       "      <td>Universal Kriging – Default</td>\n",
       "      <td>2</td>\n",
       "      <td>Yes</td>\n",
       "      <td>25.821678</td>\n",
       "      <td>-0.119737</td>\n",
       "      <td>-0.004904</td>\n",
       "      <td>1.016500</td>\n",
       "      <td>25.367149</td>\n",
       "      <td>413.368171</td>\n",
       "      <td>88.090230</td>\n",
       "    </tr>\n",
       "    <tr>\n",
       "      <th>2</th>\n",
       "      <td>3</td>\n",
       "      <td>Inverse Distance Weighted - Optimized</td>\n",
       "      <td>3</td>\n",
       "      <td>Yes</td>\n",
       "      <td>26.130605</td>\n",
       "      <td>0.109924</td>\n",
       "      <td>NaN</td>\n",
       "      <td>NaN</td>\n",
       "      <td>NaN</td>\n",
       "      <td>457.500000</td>\n",
       "      <td>87.947744</td>\n",
       "    </tr>\n",
       "    <tr>\n",
       "      <th>3</th>\n",
       "      <td>4</td>\n",
       "      <td>Ordinary Kriging – Default</td>\n",
       "      <td>4</td>\n",
       "      <td>Yes</td>\n",
       "      <td>26.145563</td>\n",
       "      <td>-0.010077</td>\n",
       "      <td>-0.000726</td>\n",
       "      <td>0.915134</td>\n",
       "      <td>28.518310</td>\n",
       "      <td>406.549347</td>\n",
       "      <td>87.940844</td>\n",
       "    </tr>\n",
       "    <tr>\n",
       "      <th>4</th>\n",
       "      <td>5</td>\n",
       "      <td>Ordinary Kriging – Optimized</td>\n",
       "      <td>5</td>\n",
       "      <td>Yes</td>\n",
       "      <td>26.616510</td>\n",
       "      <td>0.044801</td>\n",
       "      <td>0.001157</td>\n",
       "      <td>1.266233</td>\n",
       "      <td>20.931003</td>\n",
       "      <td>442.806438</td>\n",
       "      <td>87.723629</td>\n",
       "    </tr>\n",
       "    <tr>\n",
       "      <th>5</th>\n",
       "      <td>6</td>\n",
       "      <td>Inverse Distance Weighted - Default</td>\n",
       "      <td>6</td>\n",
       "      <td>Yes</td>\n",
       "      <td>27.079272</td>\n",
       "      <td>0.162070</td>\n",
       "      <td>NaN</td>\n",
       "      <td>NaN</td>\n",
       "      <td>NaN</td>\n",
       "      <td>403.914474</td>\n",
       "      <td>87.510188</td>\n",
       "    </tr>\n",
       "  </tbody>\n",
       "</table>\n",
       "</div>"
      ],
      "text/plain": [
       "   OID_                                  DESCR  RANK INCLUDED       RMSE  \\\n",
       "0     1          Universal Kriging – Optimized     1      Yes  25.641630   \n",
       "1     2            Universal Kriging – Default     2      Yes  25.821678   \n",
       "2     3  Inverse Distance Weighted - Optimized     3      Yes  26.130605   \n",
       "3     4             Ordinary Kriging – Default     4      Yes  26.145563   \n",
       "4     5           Ordinary Kriging – Optimized     5      Yes  26.616510   \n",
       "5     6    Inverse Distance Weighted - Default     6      Yes  27.079272   \n",
       "\n",
       "         ME    ME_STD  RMSE_STD        ASE   MAX_ERROR  PERC_ERROR  \n",
       "0 -0.017781 -0.001510  1.548306  16.519436  426.938871   88.173274  \n",
       "1 -0.119737 -0.004904  1.016500  25.367149  413.368171   88.090230  \n",
       "2  0.109924       NaN       NaN        NaN  457.500000   87.947744  \n",
       "3 -0.010077 -0.000726  0.915134  28.518310  406.549347   87.940844  \n",
       "4  0.044801  0.001157  1.266233  20.931003  442.806438   87.723629  \n",
       "5  0.162070       NaN       NaN        NaN  403.914474   87.510188  "
      ]
     },
     "execution_count": 5,
     "metadata": {},
     "output_type": "execute_result"
    }
   ],
   "source": [
    "# Display Accuracy Assessment Table\n",
    "elevationPipeline.display(\"DATAFRAME\")"
   ]
  },
  {
   "cell_type": "code",
   "execution_count": 6,
   "metadata": {},
   "outputs": [
    {
     "name": "stdout",
     "output_type": "stream",
     "text": [
      "Point accuracy successfully generated at: C:\\Users\\lukea\\Documents\\ArcGIS\\Projects\\GIS5572 - Lab 3\\GIS5572 - Lab 3.gdb\\elevation1km_pt_point_diff\n"
     ]
    }
   ],
   "source": [
    "# Create Point Accuracy Layer\n",
    "elevationPipeline.create_point_accuracy_layer()"
   ]
  },
  {
   "cell_type": "code",
   "execution_count": 7,
   "metadata": {},
   "outputs": [
    {
     "name": "stdout",
     "output_type": "stream",
     "text": [
      "Data successfully aggregated to H3 hexagons at: C:\\Users\\lukea\\Documents\\ArcGIS\\Projects\\GIS5572 - Lab 3\\GIS5572 - Lab 3.gdb\\elevation1km_pt_h3_6\n"
     ]
    }
   ],
   "source": [
    "# Convert Interpolation Results to H3\n",
    "elevationPipeline.convert_results_to_hex()"
   ]
  },
  {
   "cell_type": "code",
   "execution_count": 8,
   "metadata": {},
   "outputs": [],
   "source": [
    "# Export H3 Hexagons to SDE\n",
    "elevationPipeline.export_to_sde(sde_connection, \"TESSELLATION\")"
   ]
  },
  {
   "cell_type": "code",
   "execution_count": 9,
   "metadata": {},
   "outputs": [],
   "source": [
    "# Export Point Accuracy Points to SDE\n",
    "elevationPipeline.export_to_sde(sde_connection, \"POINT_ACCURACY\")"
   ]
  }
 ],
 "metadata": {
  "kernelspec": {
   "display_name": "Python 3",
   "language": "python",
   "name": "python3"
  },
  "language_info": {
   "codemirror_mode": {
    "name": "ipython",
    "version": 3
   },
   "file_extension": ".py",
   "mimetype": "text/x-python",
   "name": "python",
   "nbconvert_exporter": "python",
   "pygments_lexer": "ipython3",
   "version": "3.9.16"
  },
  "vscode": {
   "interpreter": {
    "hash": "b62fe00e8a163219a31e9c587c7e4d4967d1351b7ca4e3a9782206dac488f42b"
   }
  }
 },
 "nbformat": 4,
 "nbformat_minor": 2
}
